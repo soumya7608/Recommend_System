{
 "cells": [
  {
   "cell_type": "code",
   "execution_count": 1,
   "id": "7981a774-68fd-4d6e-a624-49360874cb11",
   "metadata": {},
   "outputs": [],
   "source": [
    "import pandas as pd\n",
    "import numpy as np"
   ]
  },
  {
   "cell_type": "code",
   "execution_count": 2,
   "id": "9b0d7d0c-9963-455d-bd75-4bea194ed709",
   "metadata": {},
   "outputs": [],
   "source": [
    "import warnings\n",
    "warnings.filterwarnings(\"ignore\")"
   ]
  },
  {
   "cell_type": "code",
   "execution_count": 3,
   "id": "a1885c3c-5d3a-407f-aef4-30d9a3d33313",
   "metadata": {},
   "outputs": [],
   "source": [
    "items=pd.read_json(r\"Meta_Magazine_Subscriptions.jsonl\\Meta_Magazine_Subscriptions.jsonl\",lines=True)"
   ]
  },
  {
   "cell_type": "code",
   "execution_count": 4,
   "id": "5762219e-3a49-415b-9e98-f2d8cafc964e",
   "metadata": {},
   "outputs": [
    {
     "data": {
      "text/html": [
       "<div>\n",
       "<style scoped>\n",
       "    .dataframe tbody tr th:only-of-type {\n",
       "        vertical-align: middle;\n",
       "    }\n",
       "\n",
       "    .dataframe tbody tr th {\n",
       "        vertical-align: top;\n",
       "    }\n",
       "\n",
       "    .dataframe thead th {\n",
       "        text-align: right;\n",
       "    }\n",
       "</style>\n",
       "<table border=\"1\" class=\"dataframe\">\n",
       "  <thead>\n",
       "    <tr style=\"text-align: right;\">\n",
       "      <th></th>\n",
       "      <th>main_category</th>\n",
       "      <th>title</th>\n",
       "      <th>average_rating</th>\n",
       "      <th>rating_number</th>\n",
       "      <th>features</th>\n",
       "      <th>description</th>\n",
       "      <th>price</th>\n",
       "      <th>images</th>\n",
       "      <th>videos</th>\n",
       "      <th>store</th>\n",
       "      <th>categories</th>\n",
       "      <th>details</th>\n",
       "      <th>parent_asin</th>\n",
       "      <th>bought_together</th>\n",
       "      <th>subtitle</th>\n",
       "      <th>author</th>\n",
       "    </tr>\n",
       "  </thead>\n",
       "  <tbody>\n",
       "    <tr>\n",
       "      <th>0</th>\n",
       "      <td>Magazine Subscriptions</td>\n",
       "      <td>GQ Print Access    Print Magazine</td>\n",
       "      <td>3.6</td>\n",
       "      <td>10</td>\n",
       "      <td>[]</td>\n",
       "      <td>[Product Description, Dive into, GQ, ’s cultur...</td>\n",
       "      <td>None</td>\n",
       "      <td>[{'thumb': 'https://m.media-amazon.com/images/...</td>\n",
       "      <td>[]</td>\n",
       "      <td>Conde Nast Publications</td>\n",
       "      <td>[]</td>\n",
       "      <td>{'Date First Available': 'June 2, 2020', 'Manu...</td>\n",
       "      <td>B00FA7T630</td>\n",
       "      <td>NaN</td>\n",
       "      <td>NaN</td>\n",
       "      <td>NaN</td>\n",
       "    </tr>\n",
       "    <tr>\n",
       "      <th>1</th>\n",
       "      <td>Magazine Subscriptions</td>\n",
       "      <td>Hi-Fi +    Print Magazine</td>\n",
       "      <td>4.4</td>\n",
       "      <td>44</td>\n",
       "      <td>[]</td>\n",
       "      <td>[Hi-Fi+ is Europe's premier English-language h...</td>\n",
       "      <td>None</td>\n",
       "      <td>[{'thumb': 'https://m.media-amazon.com/images/...</td>\n",
       "      <td>[]</td>\n",
       "      <td>Absolute Media Ltd/Hi-Fi+</td>\n",
       "      <td>[Magazine Subscriptions, Arts, Music &amp; Photogr...</td>\n",
       "      <td>{'Date First Available': 'September 19, 2013',...</td>\n",
       "      <td>B00F8P62PO</td>\n",
       "      <td>NaN</td>\n",
       "      <td>NaN</td>\n",
       "      <td>NaN</td>\n",
       "    </tr>\n",
       "  </tbody>\n",
       "</table>\n",
       "</div>"
      ],
      "text/plain": [
       "            main_category                              title  average_rating  \\\n",
       "0  Magazine Subscriptions  GQ Print Access    Print Magazine             3.6   \n",
       "1  Magazine Subscriptions          Hi-Fi +    Print Magazine             4.4   \n",
       "\n",
       "   rating_number features                                        description  \\\n",
       "0             10       []  [Product Description, Dive into, GQ, ’s cultur...   \n",
       "1             44       []  [Hi-Fi+ is Europe's premier English-language h...   \n",
       "\n",
       "  price                                             images videos  \\\n",
       "0  None  [{'thumb': 'https://m.media-amazon.com/images/...     []   \n",
       "1  None  [{'thumb': 'https://m.media-amazon.com/images/...     []   \n",
       "\n",
       "                       store  \\\n",
       "0    Conde Nast Publications   \n",
       "1  Absolute Media Ltd/Hi-Fi+   \n",
       "\n",
       "                                          categories  \\\n",
       "0                                                 []   \n",
       "1  [Magazine Subscriptions, Arts, Music & Photogr...   \n",
       "\n",
       "                                             details parent_asin  \\\n",
       "0  {'Date First Available': 'June 2, 2020', 'Manu...  B00FA7T630   \n",
       "1  {'Date First Available': 'September 19, 2013',...  B00F8P62PO   \n",
       "\n",
       "   bought_together subtitle  author  \n",
       "0              NaN      NaN     NaN  \n",
       "1              NaN      NaN     NaN  "
      ]
     },
     "execution_count": 4,
     "metadata": {},
     "output_type": "execute_result"
    }
   ],
   "source": [
    "items.head(2)"
   ]
  },
  {
   "cell_type": "code",
   "execution_count": 5,
   "id": "5bb601f5-8a90-4476-977c-5f09cb2a1e45",
   "metadata": {},
   "outputs": [],
   "source": [
    "items=items[[\"parent_asin\",\"title\",\"images\",\"main_category\",\"description\",\"details\",\"average_rating\",\"rating_number\"]]"
   ]
  },
  {
   "cell_type": "code",
   "execution_count": 6,
   "id": "7e670b6a-f3e6-4a81-8d89-12a9b2181056",
   "metadata": {},
   "outputs": [],
   "source": [
    "items.columns=[\"item_id\",\"title\",\"images\",\"categories\",\"description\",\"details\",\"average_rating\",\"rating_number\"]"
   ]
  },
  {
   "cell_type": "markdown",
   "id": "676c56f9-2d57-4d80-aa43-e1235672773d",
   "metadata": {},
   "source": [
    "### Basic checks"
   ]
  },
  {
   "cell_type": "code",
   "execution_count": 8,
   "id": "86ce388b-dc32-422d-a5ba-12c5c8dcff48",
   "metadata": {},
   "outputs": [
    {
     "data": {
      "text/html": [
       "<div>\n",
       "<style scoped>\n",
       "    .dataframe tbody tr th:only-of-type {\n",
       "        vertical-align: middle;\n",
       "    }\n",
       "\n",
       "    .dataframe tbody tr th {\n",
       "        vertical-align: top;\n",
       "    }\n",
       "\n",
       "    .dataframe thead th {\n",
       "        text-align: right;\n",
       "    }\n",
       "</style>\n",
       "<table border=\"1\" class=\"dataframe\">\n",
       "  <thead>\n",
       "    <tr style=\"text-align: right;\">\n",
       "      <th></th>\n",
       "      <th>item_id</th>\n",
       "      <th>title</th>\n",
       "      <th>images</th>\n",
       "      <th>categories</th>\n",
       "      <th>description</th>\n",
       "      <th>details</th>\n",
       "      <th>average_rating</th>\n",
       "      <th>rating_number</th>\n",
       "    </tr>\n",
       "  </thead>\n",
       "  <tbody>\n",
       "    <tr>\n",
       "      <th>0</th>\n",
       "      <td>B00FA7T630</td>\n",
       "      <td>GQ Print Access    Print Magazine</td>\n",
       "      <td>[{'thumb': 'https://m.media-amazon.com/images/...</td>\n",
       "      <td>Magazine Subscriptions</td>\n",
       "      <td>[Product Description, Dive into, GQ, ’s cultur...</td>\n",
       "      <td>{'Date First Available': 'June 2, 2020', 'Manu...</td>\n",
       "      <td>3.6</td>\n",
       "      <td>10</td>\n",
       "    </tr>\n",
       "    <tr>\n",
       "      <th>1</th>\n",
       "      <td>B00F8P62PO</td>\n",
       "      <td>Hi-Fi +    Print Magazine</td>\n",
       "      <td>[{'thumb': 'https://m.media-amazon.com/images/...</td>\n",
       "      <td>Magazine Subscriptions</td>\n",
       "      <td>[Hi-Fi+ is Europe's premier English-language h...</td>\n",
       "      <td>{'Date First Available': 'September 19, 2013',...</td>\n",
       "      <td>4.4</td>\n",
       "      <td>44</td>\n",
       "    </tr>\n",
       "    <tr>\n",
       "      <th>2</th>\n",
       "      <td>B003F1W9T6</td>\n",
       "      <td>Paper Crafts</td>\n",
       "      <td>[{'thumb': 'https://m.media-amazon.com/images/...</td>\n",
       "      <td>Magazine Subscriptions</td>\n",
       "      <td>[]</td>\n",
       "      <td>{'Date First Available': 'May 12, 2021'}</td>\n",
       "      <td>3.0</td>\n",
       "      <td>3</td>\n",
       "    </tr>\n",
       "    <tr>\n",
       "      <th>3</th>\n",
       "      <td>B00007AXX1</td>\n",
       "      <td>Horse Illustrated</td>\n",
       "      <td>[{'thumb': 'https://m.media-amazon.com/images/...</td>\n",
       "      <td>Magazine Subscriptions</td>\n",
       "      <td>[]</td>\n",
       "      <td>{'Package Dimensions': '10.79 x 8.11 x 0.31 in...</td>\n",
       "      <td>4.5</td>\n",
       "      <td>284</td>\n",
       "    </tr>\n",
       "    <tr>\n",
       "      <th>4</th>\n",
       "      <td>B00007AZS2</td>\n",
       "      <td>Motorcyclist</td>\n",
       "      <td>[{'thumb': 'https://m.media-amazon.com/images/...</td>\n",
       "      <td>Magazine Subscriptions</td>\n",
       "      <td>[]</td>\n",
       "      <td>{'Date First Available': 'April 30, 2015'}</td>\n",
       "      <td>3.0</td>\n",
       "      <td>10</td>\n",
       "    </tr>\n",
       "  </tbody>\n",
       "</table>\n",
       "</div>"
      ],
      "text/plain": [
       "      item_id                              title  \\\n",
       "0  B00FA7T630  GQ Print Access    Print Magazine   \n",
       "1  B00F8P62PO          Hi-Fi +    Print Magazine   \n",
       "2  B003F1W9T6                       Paper Crafts   \n",
       "3  B00007AXX1                  Horse Illustrated   \n",
       "4  B00007AZS2                       Motorcyclist   \n",
       "\n",
       "                                              images              categories  \\\n",
       "0  [{'thumb': 'https://m.media-amazon.com/images/...  Magazine Subscriptions   \n",
       "1  [{'thumb': 'https://m.media-amazon.com/images/...  Magazine Subscriptions   \n",
       "2  [{'thumb': 'https://m.media-amazon.com/images/...  Magazine Subscriptions   \n",
       "3  [{'thumb': 'https://m.media-amazon.com/images/...  Magazine Subscriptions   \n",
       "4  [{'thumb': 'https://m.media-amazon.com/images/...  Magazine Subscriptions   \n",
       "\n",
       "                                         description  \\\n",
       "0  [Product Description, Dive into, GQ, ’s cultur...   \n",
       "1  [Hi-Fi+ is Europe's premier English-language h...   \n",
       "2                                                 []   \n",
       "3                                                 []   \n",
       "4                                                 []   \n",
       "\n",
       "                                             details  average_rating  \\\n",
       "0  {'Date First Available': 'June 2, 2020', 'Manu...             3.6   \n",
       "1  {'Date First Available': 'September 19, 2013',...             4.4   \n",
       "2           {'Date First Available': 'May 12, 2021'}             3.0   \n",
       "3  {'Package Dimensions': '10.79 x 8.11 x 0.31 in...             4.5   \n",
       "4         {'Date First Available': 'April 30, 2015'}             3.0   \n",
       "\n",
       "   rating_number  \n",
       "0             10  \n",
       "1             44  \n",
       "2              3  \n",
       "3            284  \n",
       "4             10  "
      ]
     },
     "execution_count": 8,
     "metadata": {},
     "output_type": "execute_result"
    }
   ],
   "source": [
    "items.head()"
   ]
  },
  {
   "cell_type": "code",
   "execution_count": 9,
   "id": "a1d065a8-273a-4d64-ab5f-6ef89dfa509c",
   "metadata": {},
   "outputs": [
    {
     "name": "stdout",
     "output_type": "stream",
     "text": [
      "<class 'pandas.core.frame.DataFrame'>\n",
      "RangeIndex: 3391 entries, 0 to 3390\n",
      "Data columns (total 8 columns):\n",
      " #   Column          Non-Null Count  Dtype  \n",
      "---  ------          --------------  -----  \n",
      " 0   item_id         3391 non-null   object \n",
      " 1   title           3391 non-null   object \n",
      " 2   images          3391 non-null   object \n",
      " 3   categories      3391 non-null   object \n",
      " 4   description     3391 non-null   object \n",
      " 5   details         3391 non-null   object \n",
      " 6   average_rating  3391 non-null   float64\n",
      " 7   rating_number   3391 non-null   int64  \n",
      "dtypes: float64(1), int64(1), object(6)\n",
      "memory usage: 212.1+ KB\n"
     ]
    }
   ],
   "source": [
    "items.info()"
   ]
  },
  {
   "cell_type": "code",
   "execution_count": 10,
   "id": "ec960d6b-66b5-48b6-b452-59738e6b4f1c",
   "metadata": {},
   "outputs": [],
   "source": [
    "items[\"title\"]=items[\"title\"].str.replace(\"    \",\",\")"
   ]
  },
  {
   "cell_type": "markdown",
   "id": "42161f8e-0be0-4b66-8bb0-b8aa9c2788bc",
   "metadata": {},
   "source": [
    "#### Image"
   ]
  },
  {
   "cell_type": "code",
   "execution_count": 12,
   "id": "40630fcd-560a-4838-be3c-b088351464ee",
   "metadata": {},
   "outputs": [
    {
     "data": {
      "text/plain": [
       "0       [{'thumb': 'https://m.media-amazon.com/images/...\n",
       "1       [{'thumb': 'https://m.media-amazon.com/images/...\n",
       "2       [{'thumb': 'https://m.media-amazon.com/images/...\n",
       "3       [{'thumb': 'https://m.media-amazon.com/images/...\n",
       "4       [{'thumb': 'https://m.media-amazon.com/images/...\n",
       "                              ...                        \n",
       "3386    [{'thumb': 'https://m.media-amazon.com/images/...\n",
       "3387    [{'thumb': 'https://m.media-amazon.com/images/...\n",
       "3388    [{'thumb': 'https://m.media-amazon.com/images/...\n",
       "3389    [{'thumb': 'https://m.media-amazon.com/images/...\n",
       "3390    [{'thumb': 'https://m.media-amazon.com/images/...\n",
       "Name: images, Length: 3391, dtype: object"
      ]
     },
     "execution_count": 12,
     "metadata": {},
     "output_type": "execute_result"
    }
   ],
   "source": [
    "items.images\n"
   ]
  },
  {
   "cell_type": "code",
   "execution_count": 13,
   "id": "73913526-fe5e-41e0-8448-f65e4acb9048",
   "metadata": {},
   "outputs": [],
   "source": [
    "for indx in range(len(items)):\n",
    "    try:\n",
    "        items['images'][indx] = items['images'][indx][0]\n",
    "    except:\n",
    "        items['images'][indx] = np.nan # Replacing [] with nan"
   ]
  },
  {
   "cell_type": "code",
   "execution_count": 14,
   "id": "cf6ed923-058b-4cfe-a5f9-4c064b6d9b8a",
   "metadata": {},
   "outputs": [
    {
     "data": {
      "text/plain": [
       "0       {'thumb': 'https://m.media-amazon.com/images/I...\n",
       "1       {'thumb': 'https://m.media-amazon.com/images/I...\n",
       "2       {'thumb': 'https://m.media-amazon.com/images/I...\n",
       "3       {'thumb': 'https://m.media-amazon.com/images/I...\n",
       "4       {'thumb': 'https://m.media-amazon.com/images/I...\n",
       "                              ...                        \n",
       "3386    {'thumb': 'https://m.media-amazon.com/images/I...\n",
       "3387    {'thumb': 'https://m.media-amazon.com/images/I...\n",
       "3388    {'thumb': 'https://m.media-amazon.com/images/I...\n",
       "3389    {'thumb': 'https://m.media-amazon.com/images/I...\n",
       "3390    {'thumb': 'https://m.media-amazon.com/images/I...\n",
       "Name: images, Length: 3391, dtype: object"
      ]
     },
     "execution_count": 14,
     "metadata": {},
     "output_type": "execute_result"
    }
   ],
   "source": [
    "items.images"
   ]
  },
  {
   "cell_type": "raw",
   "id": "f5fa6ef9-3314-41c2-a372-9d247d9f34d8",
   "metadata": {},
   "source": [
    "for indx in range(len(items)):\n",
    "    items['images'][indx] = items['images'][indx].get(\"large\")"
   ]
  },
  {
   "cell_type": "code",
   "execution_count": 16,
   "id": "07860d2b-3621-453f-8efa-9d9102a32396",
   "metadata": {},
   "outputs": [],
   "source": [
    "for indx in range(len(items)):\n",
    "    items['description'][indx] = \", \".join(items['description'][indx])"
   ]
  },
  {
   "cell_type": "code",
   "execution_count": 223,
   "id": "2c73edde-2c8a-467c-9ab5-f3db1fa7fb52",
   "metadata": {},
   "outputs": [],
   "source": [
    "items['description']=items['description'].str.strip()"
   ]
  },
  {
   "cell_type": "code",
   "execution_count": 239,
   "id": "76bc0509-4b1b-40b5-9d43-1b47f5b553d6",
   "metadata": {},
   "outputs": [],
   "source": [
    "items[\"description\"].replace({\"''\":np.nan},inplace=True)"
   ]
  },
  {
   "cell_type": "code",
   "execution_count": 241,
   "id": "b2e156d4-ea0d-444c-a5ac-65b4b09c24a4",
   "metadata": {},
   "outputs": [
    {
     "data": {
      "text/plain": [
       "1843"
      ]
     },
     "execution_count": 241,
     "metadata": {},
     "output_type": "execute_result"
    }
   ],
   "source": [
    "len(items[items[\"description\"]==''])"
   ]
  },
  {
   "cell_type": "code",
   "execution_count": 17,
   "id": "e17bb35b-3b9c-45e2-b2b0-8e15c4a3e029",
   "metadata": {},
   "outputs": [
    {
     "data": {
      "text/html": [
       "<div>\n",
       "<style scoped>\n",
       "    .dataframe tbody tr th:only-of-type {\n",
       "        vertical-align: middle;\n",
       "    }\n",
       "\n",
       "    .dataframe tbody tr th {\n",
       "        vertical-align: top;\n",
       "    }\n",
       "\n",
       "    .dataframe thead th {\n",
       "        text-align: right;\n",
       "    }\n",
       "</style>\n",
       "<table border=\"1\" class=\"dataframe\">\n",
       "  <thead>\n",
       "    <tr style=\"text-align: right;\">\n",
       "      <th></th>\n",
       "      <th>item_id</th>\n",
       "      <th>title</th>\n",
       "      <th>images</th>\n",
       "      <th>categories</th>\n",
       "      <th>description</th>\n",
       "      <th>details</th>\n",
       "      <th>average_rating</th>\n",
       "      <th>rating_number</th>\n",
       "    </tr>\n",
       "  </thead>\n",
       "  <tbody>\n",
       "    <tr>\n",
       "      <th>0</th>\n",
       "      <td>B00FA7T630</td>\n",
       "      <td>GQ Print Access,Print Magazine</td>\n",
       "      <td>{'thumb': 'https://m.media-amazon.com/images/I...</td>\n",
       "      <td>Magazine Subscriptions</td>\n",
       "      <td>Product Description, Dive into, GQ, ’s culture...</td>\n",
       "      <td>{'Date First Available': 'June 2, 2020', 'Manu...</td>\n",
       "      <td>3.6</td>\n",
       "      <td>10</td>\n",
       "    </tr>\n",
       "    <tr>\n",
       "      <th>1</th>\n",
       "      <td>B00F8P62PO</td>\n",
       "      <td>Hi-Fi +,Print Magazine</td>\n",
       "      <td>{'thumb': 'https://m.media-amazon.com/images/I...</td>\n",
       "      <td>Magazine Subscriptions</td>\n",
       "      <td>Hi-Fi+ is Europe's premier English-language hi...</td>\n",
       "      <td>{'Date First Available': 'September 19, 2013',...</td>\n",
       "      <td>4.4</td>\n",
       "      <td>44</td>\n",
       "    </tr>\n",
       "    <tr>\n",
       "      <th>2</th>\n",
       "      <td>B003F1W9T6</td>\n",
       "      <td>Paper Crafts</td>\n",
       "      <td>{'thumb': 'https://m.media-amazon.com/images/I...</td>\n",
       "      <td>Magazine Subscriptions</td>\n",
       "      <td></td>\n",
       "      <td>{'Date First Available': 'May 12, 2021'}</td>\n",
       "      <td>3.0</td>\n",
       "      <td>3</td>\n",
       "    </tr>\n",
       "    <tr>\n",
       "      <th>3</th>\n",
       "      <td>B00007AXX1</td>\n",
       "      <td>Horse Illustrated</td>\n",
       "      <td>{'thumb': 'https://m.media-amazon.com/images/I...</td>\n",
       "      <td>Magazine Subscriptions</td>\n",
       "      <td></td>\n",
       "      <td>{'Package Dimensions': '10.79 x 8.11 x 0.31 in...</td>\n",
       "      <td>4.5</td>\n",
       "      <td>284</td>\n",
       "    </tr>\n",
       "    <tr>\n",
       "      <th>4</th>\n",
       "      <td>B00007AZS2</td>\n",
       "      <td>Motorcyclist</td>\n",
       "      <td>{'thumb': 'https://m.media-amazon.com/images/I...</td>\n",
       "      <td>Magazine Subscriptions</td>\n",
       "      <td></td>\n",
       "      <td>{'Date First Available': 'April 30, 2015'}</td>\n",
       "      <td>3.0</td>\n",
       "      <td>10</td>\n",
       "    </tr>\n",
       "  </tbody>\n",
       "</table>\n",
       "</div>"
      ],
      "text/plain": [
       "      item_id                           title  \\\n",
       "0  B00FA7T630  GQ Print Access,Print Magazine   \n",
       "1  B00F8P62PO          Hi-Fi +,Print Magazine   \n",
       "2  B003F1W9T6                    Paper Crafts   \n",
       "3  B00007AXX1               Horse Illustrated   \n",
       "4  B00007AZS2                    Motorcyclist   \n",
       "\n",
       "                                              images              categories  \\\n",
       "0  {'thumb': 'https://m.media-amazon.com/images/I...  Magazine Subscriptions   \n",
       "1  {'thumb': 'https://m.media-amazon.com/images/I...  Magazine Subscriptions   \n",
       "2  {'thumb': 'https://m.media-amazon.com/images/I...  Magazine Subscriptions   \n",
       "3  {'thumb': 'https://m.media-amazon.com/images/I...  Magazine Subscriptions   \n",
       "4  {'thumb': 'https://m.media-amazon.com/images/I...  Magazine Subscriptions   \n",
       "\n",
       "                                         description  \\\n",
       "0  Product Description, Dive into, GQ, ’s culture...   \n",
       "1  Hi-Fi+ is Europe's premier English-language hi...   \n",
       "2                                                      \n",
       "3                                                      \n",
       "4                                                      \n",
       "\n",
       "                                             details  average_rating  \\\n",
       "0  {'Date First Available': 'June 2, 2020', 'Manu...             3.6   \n",
       "1  {'Date First Available': 'September 19, 2013',...             4.4   \n",
       "2           {'Date First Available': 'May 12, 2021'}             3.0   \n",
       "3  {'Package Dimensions': '10.79 x 8.11 x 0.31 in...             4.5   \n",
       "4         {'Date First Available': 'April 30, 2015'}             3.0   \n",
       "\n",
       "   rating_number  \n",
       "0             10  \n",
       "1             44  \n",
       "2              3  \n",
       "3            284  \n",
       "4             10  "
      ]
     },
     "execution_count": 17,
     "metadata": {},
     "output_type": "execute_result"
    }
   ],
   "source": [
    "items.head()"
   ]
  },
  {
   "cell_type": "code",
   "execution_count": 18,
   "id": "abffe3d1-2f67-417d-94a7-a457efc0d88f",
   "metadata": {},
   "outputs": [
    {
     "data": {
      "text/plain": [
       "0       {'Date First Available': 'June 2, 2020', 'Manu...\n",
       "1       {'Date First Available': 'September 19, 2013',...\n",
       "2                {'Date First Available': 'May 12, 2021'}\n",
       "3       {'Package Dimensions': '10.79 x 8.11 x 0.31 in...\n",
       "4              {'Date First Available': 'April 30, 2015'}\n",
       "                              ...                        \n",
       "3386        {'Date First Available': 'December 31, 2022'}\n",
       "3387    {'Date First Available': 'September 14, 2006',...\n",
       "3388    {'Date First Available': 'September 14, 2006',...\n",
       "3389    {'Date First Available': 'September 15, 2013',...\n",
       "3390    {'Date First Available': 'November 4, 2015', '...\n",
       "Name: details, Length: 3391, dtype: object"
      ]
     },
     "execution_count": 18,
     "metadata": {},
     "output_type": "execute_result"
    }
   ],
   "source": [
    "items.details"
   ]
  },
  {
   "cell_type": "code",
   "execution_count": 19,
   "id": "eb87db0b-fb3c-4256-9952-3981db04a8a0",
   "metadata": {},
   "outputs": [
    {
     "name": "stdout",
     "output_type": "stream",
     "text": [
      "<class 'pandas.core.frame.DataFrame'>\n",
      "RangeIndex: 3391 entries, 0 to 3390\n",
      "Data columns (total 8 columns):\n",
      " #   Column          Non-Null Count  Dtype  \n",
      "---  ------          --------------  -----  \n",
      " 0   item_id         3391 non-null   object \n",
      " 1   title           3391 non-null   object \n",
      " 2   images          3391 non-null   object \n",
      " 3   categories      3391 non-null   object \n",
      " 4   description     3391 non-null   object \n",
      " 5   details         3391 non-null   object \n",
      " 6   average_rating  3391 non-null   float64\n",
      " 7   rating_number   3391 non-null   int64  \n",
      "dtypes: float64(1), int64(1), object(6)\n",
      "memory usage: 212.1+ KB\n"
     ]
    }
   ],
   "source": [
    "items.info()"
   ]
  },
  {
   "cell_type": "code",
   "execution_count": 20,
   "id": "8fe229fd-810f-43eb-b88e-025032e01ab0",
   "metadata": {},
   "outputs": [],
   "source": [
    "for col in items.columns:\n",
    "    if items[col].dtype==object and col!='details' and col!='images':\n",
    "        items[col]=items[col].str.lower()\n",
    "    "
   ]
  },
  {
   "cell_type": "code",
   "execution_count": null,
   "id": "0b9b65c3-850c-45fc-8019-fdc45bdf6f55",
   "metadata": {},
   "outputs": [],
   "source": []
  },
  {
   "cell_type": "code",
   "execution_count": 21,
   "id": "eb14e3db-1670-4076-84ec-adadc9ddf285",
   "metadata": {},
   "outputs": [
    {
     "data": {
      "text/html": [
       "<div>\n",
       "<style scoped>\n",
       "    .dataframe tbody tr th:only-of-type {\n",
       "        vertical-align: middle;\n",
       "    }\n",
       "\n",
       "    .dataframe tbody tr th {\n",
       "        vertical-align: top;\n",
       "    }\n",
       "\n",
       "    .dataframe thead th {\n",
       "        text-align: right;\n",
       "    }\n",
       "</style>\n",
       "<table border=\"1\" class=\"dataframe\">\n",
       "  <thead>\n",
       "    <tr style=\"text-align: right;\">\n",
       "      <th></th>\n",
       "      <th>item_id</th>\n",
       "      <th>title</th>\n",
       "      <th>images</th>\n",
       "      <th>categories</th>\n",
       "      <th>description</th>\n",
       "      <th>details</th>\n",
       "      <th>average_rating</th>\n",
       "      <th>rating_number</th>\n",
       "    </tr>\n",
       "  </thead>\n",
       "  <tbody>\n",
       "    <tr>\n",
       "      <th>0</th>\n",
       "      <td>b00fa7t630</td>\n",
       "      <td>gq print access,print magazine</td>\n",
       "      <td>{'thumb': 'https://m.media-amazon.com/images/I...</td>\n",
       "      <td>magazine subscriptions</td>\n",
       "      <td>product description, dive into, gq, ’s culture...</td>\n",
       "      <td>{'Date First Available': 'June 2, 2020', 'Manu...</td>\n",
       "      <td>3.6</td>\n",
       "      <td>10</td>\n",
       "    </tr>\n",
       "    <tr>\n",
       "      <th>1</th>\n",
       "      <td>b00f8p62po</td>\n",
       "      <td>hi-fi +,print magazine</td>\n",
       "      <td>{'thumb': 'https://m.media-amazon.com/images/I...</td>\n",
       "      <td>magazine subscriptions</td>\n",
       "      <td>hi-fi+ is europe's premier english-language hi...</td>\n",
       "      <td>{'Date First Available': 'September 19, 2013',...</td>\n",
       "      <td>4.4</td>\n",
       "      <td>44</td>\n",
       "    </tr>\n",
       "    <tr>\n",
       "      <th>2</th>\n",
       "      <td>b003f1w9t6</td>\n",
       "      <td>paper crafts</td>\n",
       "      <td>{'thumb': 'https://m.media-amazon.com/images/I...</td>\n",
       "      <td>magazine subscriptions</td>\n",
       "      <td></td>\n",
       "      <td>{'Date First Available': 'May 12, 2021'}</td>\n",
       "      <td>3.0</td>\n",
       "      <td>3</td>\n",
       "    </tr>\n",
       "    <tr>\n",
       "      <th>3</th>\n",
       "      <td>b00007axx1</td>\n",
       "      <td>horse illustrated</td>\n",
       "      <td>{'thumb': 'https://m.media-amazon.com/images/I...</td>\n",
       "      <td>magazine subscriptions</td>\n",
       "      <td></td>\n",
       "      <td>{'Package Dimensions': '10.79 x 8.11 x 0.31 in...</td>\n",
       "      <td>4.5</td>\n",
       "      <td>284</td>\n",
       "    </tr>\n",
       "    <tr>\n",
       "      <th>4</th>\n",
       "      <td>b00007azs2</td>\n",
       "      <td>motorcyclist</td>\n",
       "      <td>{'thumb': 'https://m.media-amazon.com/images/I...</td>\n",
       "      <td>magazine subscriptions</td>\n",
       "      <td></td>\n",
       "      <td>{'Date First Available': 'April 30, 2015'}</td>\n",
       "      <td>3.0</td>\n",
       "      <td>10</td>\n",
       "    </tr>\n",
       "  </tbody>\n",
       "</table>\n",
       "</div>"
      ],
      "text/plain": [
       "      item_id                           title  \\\n",
       "0  b00fa7t630  gq print access,print magazine   \n",
       "1  b00f8p62po          hi-fi +,print magazine   \n",
       "2  b003f1w9t6                    paper crafts   \n",
       "3  b00007axx1               horse illustrated   \n",
       "4  b00007azs2                    motorcyclist   \n",
       "\n",
       "                                              images              categories  \\\n",
       "0  {'thumb': 'https://m.media-amazon.com/images/I...  magazine subscriptions   \n",
       "1  {'thumb': 'https://m.media-amazon.com/images/I...  magazine subscriptions   \n",
       "2  {'thumb': 'https://m.media-amazon.com/images/I...  magazine subscriptions   \n",
       "3  {'thumb': 'https://m.media-amazon.com/images/I...  magazine subscriptions   \n",
       "4  {'thumb': 'https://m.media-amazon.com/images/I...  magazine subscriptions   \n",
       "\n",
       "                                         description  \\\n",
       "0  product description, dive into, gq, ’s culture...   \n",
       "1  hi-fi+ is europe's premier english-language hi...   \n",
       "2                                                      \n",
       "3                                                      \n",
       "4                                                      \n",
       "\n",
       "                                             details  average_rating  \\\n",
       "0  {'Date First Available': 'June 2, 2020', 'Manu...             3.6   \n",
       "1  {'Date First Available': 'September 19, 2013',...             4.4   \n",
       "2           {'Date First Available': 'May 12, 2021'}             3.0   \n",
       "3  {'Package Dimensions': '10.79 x 8.11 x 0.31 in...             4.5   \n",
       "4         {'Date First Available': 'April 30, 2015'}             3.0   \n",
       "\n",
       "   rating_number  \n",
       "0             10  \n",
       "1             44  \n",
       "2              3  \n",
       "3            284  \n",
       "4             10  "
      ]
     },
     "execution_count": 21,
     "metadata": {},
     "output_type": "execute_result"
    }
   ],
   "source": [
    "items.head()"
   ]
  },
  {
   "cell_type": "markdown",
   "id": "0b589f2e-9bd5-4cc0-ad97-8f8cfd153793",
   "metadata": {},
   "source": [
    "### Recommended items"
   ]
  },
  {
   "cell_type": "code",
   "execution_count": 23,
   "id": "15c1e295-b3ce-43d7-a0f4-5ef05bb18b74",
   "metadata": {},
   "outputs": [],
   "source": [
    "ritems=pd.read_json(r\"Magazine_Subscriptions.jsonl\\Magazine_Subscriptions.jsonl\",lines=True)"
   ]
  },
  {
   "cell_type": "code",
   "execution_count": 24,
   "id": "8b659832-adaa-4902-9d40-b39ba3363b22",
   "metadata": {},
   "outputs": [
    {
     "data": {
      "text/html": [
       "<div>\n",
       "<style scoped>\n",
       "    .dataframe tbody tr th:only-of-type {\n",
       "        vertical-align: middle;\n",
       "    }\n",
       "\n",
       "    .dataframe tbody tr th {\n",
       "        vertical-align: top;\n",
       "    }\n",
       "\n",
       "    .dataframe thead th {\n",
       "        text-align: right;\n",
       "    }\n",
       "</style>\n",
       "<table border=\"1\" class=\"dataframe\">\n",
       "  <thead>\n",
       "    <tr style=\"text-align: right;\">\n",
       "      <th></th>\n",
       "      <th>rating</th>\n",
       "      <th>title</th>\n",
       "      <th>text</th>\n",
       "      <th>images</th>\n",
       "      <th>asin</th>\n",
       "      <th>parent_asin</th>\n",
       "      <th>user_id</th>\n",
       "      <th>timestamp</th>\n",
       "      <th>helpful_vote</th>\n",
       "      <th>verified_purchase</th>\n",
       "    </tr>\n",
       "  </thead>\n",
       "  <tbody>\n",
       "    <tr>\n",
       "      <th>0</th>\n",
       "      <td>5</td>\n",
       "      <td>Great pictures and recipes</td>\n",
       "      <td>Wonderful recipes in this magazine.</td>\n",
       "      <td>[]</td>\n",
       "      <td>B00HLSSQKK</td>\n",
       "      <td>B00HLSSQKK</td>\n",
       "      <td>AE7Y5RLYIKHOZB5NKKOEKYG2SPSQ</td>\n",
       "      <td>2020-12-15 15:29:02.433</td>\n",
       "      <td>0</td>\n",
       "      <td>True</td>\n",
       "    </tr>\n",
       "    <tr>\n",
       "      <th>1</th>\n",
       "      <td>4</td>\n",
       "      <td>great for kids who love sports!</td>\n",
       "      <td>Great sports magazine that's on my 9 year olds...</td>\n",
       "      <td>[]</td>\n",
       "      <td>B002PXW04Y</td>\n",
       "      <td>B002PXW04Y</td>\n",
       "      <td>AHORTSSMI6ZZFUFWMPT4UFR2ISUQ</td>\n",
       "      <td>2016-08-12 03:28:32.000</td>\n",
       "      <td>1</td>\n",
       "      <td>True</td>\n",
       "    </tr>\n",
       "    <tr>\n",
       "      <th>2</th>\n",
       "      <td>5</td>\n",
       "      <td>A great look at what's new on the kosher scene...</td>\n",
       "      <td>\"Joy of Kosher\" magazine fills a much-needed n...</td>\n",
       "      <td>[]</td>\n",
       "      <td>B00HCR5090</td>\n",
       "      <td>B00HCR5090</td>\n",
       "      <td>AFW2PDT3AMT4X3PYQG7FJZH5FXFA</td>\n",
       "      <td>2014-04-06 23:32:53.000</td>\n",
       "      <td>4</td>\n",
       "      <td>False</td>\n",
       "    </tr>\n",
       "    <tr>\n",
       "      <th>3</th>\n",
       "      <td>5</td>\n",
       "      <td>If you enjoy reading an eye-catching, easy-to-...</td>\n",
       "      <td>I've been addicted to Martha Stewart's Everyda...</td>\n",
       "      <td>[]</td>\n",
       "      <td>B0000ARXXS</td>\n",
       "      <td>B0000ARXXS</td>\n",
       "      <td>AFW2PDT3AMT4X3PYQG7FJZH5FXFA</td>\n",
       "      <td>2007-06-15 04:04:15.000</td>\n",
       "      <td>4</td>\n",
       "      <td>False</td>\n",
       "    </tr>\n",
       "    <tr>\n",
       "      <th>4</th>\n",
       "      <td>1</td>\n",
       "      <td>Too many “ gear ads” !!</td>\n",
       "      <td>Too many ads!</td>\n",
       "      <td>[]</td>\n",
       "      <td>B0025ZOVEO</td>\n",
       "      <td>B0025ZOVEO</td>\n",
       "      <td>AFUB7CHTXRPD447QVQCHBZVN2IPQ</td>\n",
       "      <td>2020-06-01 21:24:40.246</td>\n",
       "      <td>13</td>\n",
       "      <td>True</td>\n",
       "    </tr>\n",
       "  </tbody>\n",
       "</table>\n",
       "</div>"
      ],
      "text/plain": [
       "   rating                                              title  \\\n",
       "0       5                         Great pictures and recipes   \n",
       "1       4                    great for kids who love sports!   \n",
       "2       5  A great look at what's new on the kosher scene...   \n",
       "3       5  If you enjoy reading an eye-catching, easy-to-...   \n",
       "4       1                            Too many “ gear ads” !!   \n",
       "\n",
       "                                                text images        asin  \\\n",
       "0                Wonderful recipes in this magazine.     []  B00HLSSQKK   \n",
       "1  Great sports magazine that's on my 9 year olds...     []  B002PXW04Y   \n",
       "2  \"Joy of Kosher\" magazine fills a much-needed n...     []  B00HCR5090   \n",
       "3  I've been addicted to Martha Stewart's Everyda...     []  B0000ARXXS   \n",
       "4                                      Too many ads!     []  B0025ZOVEO   \n",
       "\n",
       "  parent_asin                       user_id               timestamp  \\\n",
       "0  B00HLSSQKK  AE7Y5RLYIKHOZB5NKKOEKYG2SPSQ 2020-12-15 15:29:02.433   \n",
       "1  B002PXW04Y  AHORTSSMI6ZZFUFWMPT4UFR2ISUQ 2016-08-12 03:28:32.000   \n",
       "2  B00HCR5090  AFW2PDT3AMT4X3PYQG7FJZH5FXFA 2014-04-06 23:32:53.000   \n",
       "3  B0000ARXXS  AFW2PDT3AMT4X3PYQG7FJZH5FXFA 2007-06-15 04:04:15.000   \n",
       "4  B0025ZOVEO  AFUB7CHTXRPD447QVQCHBZVN2IPQ 2020-06-01 21:24:40.246   \n",
       "\n",
       "   helpful_vote  verified_purchase  \n",
       "0             0               True  \n",
       "1             1               True  \n",
       "2             4              False  \n",
       "3             4              False  \n",
       "4            13               True  "
      ]
     },
     "execution_count": 24,
     "metadata": {},
     "output_type": "execute_result"
    }
   ],
   "source": [
    "ritems.head()"
   ]
  },
  {
   "cell_type": "code",
   "execution_count": 25,
   "id": "a551b284-0d41-4ca8-bb6f-5636b14a3dff",
   "metadata": {},
   "outputs": [],
   "source": [
    "ritems=ritems[[\"user_id\",\"parent_asin\",\"rating\"]]"
   ]
  },
  {
   "cell_type": "code",
   "execution_count": 26,
   "id": "38484077-37d2-4a51-bdfe-b8ee2cc3d838",
   "metadata": {},
   "outputs": [],
   "source": [
    "ritems.columns=[\"user_id\",\"item_id\",\"rating\"]"
   ]
  },
  {
   "cell_type": "code",
   "execution_count": 27,
   "id": "40e7ef05-c601-45de-bad0-f6ac41b8ce2a",
   "metadata": {},
   "outputs": [
    {
     "name": "stdout",
     "output_type": "stream",
     "text": [
      "<class 'pandas.core.frame.DataFrame'>\n",
      "RangeIndex: 71497 entries, 0 to 71496\n",
      "Data columns (total 3 columns):\n",
      " #   Column   Non-Null Count  Dtype \n",
      "---  ------   --------------  ----- \n",
      " 0   user_id  71497 non-null  object\n",
      " 1   item_id  71497 non-null  object\n",
      " 2   rating   71497 non-null  int64 \n",
      "dtypes: int64(1), object(2)\n",
      "memory usage: 1.6+ MB\n"
     ]
    }
   ],
   "source": [
    "ritems.info()"
   ]
  },
  {
   "cell_type": "code",
   "execution_count": 28,
   "id": "801d919a-b2a6-4b0b-bfef-3eb55942291e",
   "metadata": {},
   "outputs": [],
   "source": [
    "for col in ritems.columns:\n",
    "    if ritems[col].dtype=='object':\n",
    "        ritems[col]=ritems[col].str.lower()"
   ]
  },
  {
   "cell_type": "code",
   "execution_count": 29,
   "id": "aa93c4c4-112c-45fe-9dcc-199764737327",
   "metadata": {},
   "outputs": [
    {
     "data": {
      "text/html": [
       "<div>\n",
       "<style scoped>\n",
       "    .dataframe tbody tr th:only-of-type {\n",
       "        vertical-align: middle;\n",
       "    }\n",
       "\n",
       "    .dataframe tbody tr th {\n",
       "        vertical-align: top;\n",
       "    }\n",
       "\n",
       "    .dataframe thead th {\n",
       "        text-align: right;\n",
       "    }\n",
       "</style>\n",
       "<table border=\"1\" class=\"dataframe\">\n",
       "  <thead>\n",
       "    <tr style=\"text-align: right;\">\n",
       "      <th></th>\n",
       "      <th>user_id</th>\n",
       "      <th>item_id</th>\n",
       "      <th>rating</th>\n",
       "    </tr>\n",
       "  </thead>\n",
       "  <tbody>\n",
       "    <tr>\n",
       "      <th>1107</th>\n",
       "      <td>aefrxljfls6c67vjs6ofxtxjc7zq</td>\n",
       "      <td>b0131givv4</td>\n",
       "      <td>5</td>\n",
       "    </tr>\n",
       "    <tr>\n",
       "      <th>1433</th>\n",
       "      <td>agpis5bjdxcmmaz4q4s6uqdu7sca</td>\n",
       "      <td>b00005n7sl</td>\n",
       "      <td>5</td>\n",
       "    </tr>\n",
       "    <tr>\n",
       "      <th>1886</th>\n",
       "      <td>afnlbjv2ro7pkfzfovnf4zel4dmq</td>\n",
       "      <td>b00f8lwd6u</td>\n",
       "      <td>5</td>\n",
       "    </tr>\n",
       "    <tr>\n",
       "      <th>2495</th>\n",
       "      <td>ae6bycs5vmszyvhavyjlidjim5fa</td>\n",
       "      <td>b005dnampm</td>\n",
       "      <td>5</td>\n",
       "    </tr>\n",
       "    <tr>\n",
       "      <th>2864</th>\n",
       "      <td>ahjwktqe6ai7kaynql3gpnbbm3ua</td>\n",
       "      <td>b01h6wolpy</td>\n",
       "      <td>3</td>\n",
       "    </tr>\n",
       "    <tr>\n",
       "      <th>...</th>\n",
       "      <td>...</td>\n",
       "      <td>...</td>\n",
       "      <td>...</td>\n",
       "    </tr>\n",
       "    <tr>\n",
       "      <th>71447</th>\n",
       "      <td>ah2yrk6zkow3jpszvrrsllodm5za</td>\n",
       "      <td>b0000a0nln</td>\n",
       "      <td>1</td>\n",
       "    </tr>\n",
       "    <tr>\n",
       "      <th>71449</th>\n",
       "      <td>ah2yrk6zkow3jpszvrrsllodm5za</td>\n",
       "      <td>b0000a0nln</td>\n",
       "      <td>1</td>\n",
       "    </tr>\n",
       "    <tr>\n",
       "      <th>71450</th>\n",
       "      <td>ah2yrk6zkow3jpszvrrsllodm5za</td>\n",
       "      <td>b0000a0nln</td>\n",
       "      <td>1</td>\n",
       "    </tr>\n",
       "    <tr>\n",
       "      <th>71464</th>\n",
       "      <td>aeezzqb5bgc5hwdfx6slwdvtn24a</td>\n",
       "      <td>b002pxw0dk</td>\n",
       "      <td>5</td>\n",
       "    </tr>\n",
       "    <tr>\n",
       "      <th>71471</th>\n",
       "      <td>agmhvswo7yyyx7von32vqcljlesa</td>\n",
       "      <td>b07tnvx3h2</td>\n",
       "      <td>4</td>\n",
       "    </tr>\n",
       "  </tbody>\n",
       "</table>\n",
       "<p>575 rows × 3 columns</p>\n",
       "</div>"
      ],
      "text/plain": [
       "                            user_id     item_id  rating\n",
       "1107   aefrxljfls6c67vjs6ofxtxjc7zq  b0131givv4       5\n",
       "1433   agpis5bjdxcmmaz4q4s6uqdu7sca  b00005n7sl       5\n",
       "1886   afnlbjv2ro7pkfzfovnf4zel4dmq  b00f8lwd6u       5\n",
       "2495   ae6bycs5vmszyvhavyjlidjim5fa  b005dnampm       5\n",
       "2864   ahjwktqe6ai7kaynql3gpnbbm3ua  b01h6wolpy       3\n",
       "...                             ...         ...     ...\n",
       "71447  ah2yrk6zkow3jpszvrrsllodm5za  b0000a0nln       1\n",
       "71449  ah2yrk6zkow3jpszvrrsllodm5za  b0000a0nln       1\n",
       "71450  ah2yrk6zkow3jpszvrrsllodm5za  b0000a0nln       1\n",
       "71464  aeezzqb5bgc5hwdfx6slwdvtn24a  b002pxw0dk       5\n",
       "71471  agmhvswo7yyyx7von32vqcljlesa  b07tnvx3h2       4\n",
       "\n",
       "[575 rows x 3 columns]"
      ]
     },
     "execution_count": 29,
     "metadata": {},
     "output_type": "execute_result"
    }
   ],
   "source": [
    "ritems[ritems.duplicated()]"
   ]
  },
  {
   "cell_type": "code",
   "execution_count": 30,
   "id": "8308ce40-4fde-4d80-bd67-b3df6759c95f",
   "metadata": {},
   "outputs": [
    {
     "data": {
      "text/plain": [
       "(3391, 8)"
      ]
     },
     "execution_count": 30,
     "metadata": {},
     "output_type": "execute_result"
    }
   ],
   "source": [
    "items.shape"
   ]
  },
  {
   "cell_type": "code",
   "execution_count": 31,
   "id": "40dd7c68-c3b5-4397-a3cb-d77bf236ff3a",
   "metadata": {},
   "outputs": [],
   "source": [
    "ritems=ritems.drop_duplicates().reset_index(drop=True)"
   ]
  },
  {
   "cell_type": "markdown",
   "id": "7e9504b1-a1a9-4e6b-b1e3-264c4d10cf6d",
   "metadata": {},
   "source": [
    "### missing value handling"
   ]
  },
  {
   "cell_type": "code",
   "execution_count": 33,
   "id": "68a061ab-6ca2-45b7-904e-fc1c6a8e6286",
   "metadata": {},
   "outputs": [
    {
     "data": {
      "text/plain": [
       "(3391, 8)"
      ]
     },
     "execution_count": 33,
     "metadata": {},
     "output_type": "execute_result"
    }
   ],
   "source": [
    "items.shape"
   ]
  },
  {
   "cell_type": "code",
   "execution_count": 34,
   "id": "8f1ee2de-ac7c-4ee2-b2a0-2c0b36bc81ac",
   "metadata": {},
   "outputs": [
    {
     "data": {
      "text/plain": [
       "(70922, 3)"
      ]
     },
     "execution_count": 34,
     "metadata": {},
     "output_type": "execute_result"
    }
   ],
   "source": [
    "ritems.shape"
   ]
  },
  {
   "cell_type": "code",
   "execution_count": 243,
   "id": "0b43da5a-9e67-4291-940b-5ca49e5188df",
   "metadata": {},
   "outputs": [
    {
     "data": {
      "text/plain": [
       "item_id           0\n",
       "title             0\n",
       "images            0\n",
       "categories        0\n",
       "description       0\n",
       "details           0\n",
       "average_rating    0\n",
       "rating_number     0\n",
       "dtype: int64"
      ]
     },
     "execution_count": 243,
     "metadata": {},
     "output_type": "execute_result"
    }
   ],
   "source": [
    "items.isnull().sum()"
   ]
  },
  {
   "cell_type": "code",
   "execution_count": 36,
   "id": "c07ce622-b7a9-45fb-9fd0-6a76fcaeef6a",
   "metadata": {},
   "outputs": [
    {
     "data": {
      "text/html": [
       "<div>\n",
       "<style scoped>\n",
       "    .dataframe tbody tr th:only-of-type {\n",
       "        vertical-align: middle;\n",
       "    }\n",
       "\n",
       "    .dataframe tbody tr th {\n",
       "        vertical-align: top;\n",
       "    }\n",
       "\n",
       "    .dataframe thead th {\n",
       "        text-align: right;\n",
       "    }\n",
       "</style>\n",
       "<table border=\"1\" class=\"dataframe\">\n",
       "  <thead>\n",
       "    <tr style=\"text-align: right;\">\n",
       "      <th></th>\n",
       "      <th>item_id</th>\n",
       "      <th>title</th>\n",
       "      <th>images</th>\n",
       "      <th>categories</th>\n",
       "      <th>description</th>\n",
       "      <th>details</th>\n",
       "      <th>average_rating</th>\n",
       "      <th>rating_number</th>\n",
       "    </tr>\n",
       "  </thead>\n",
       "  <tbody>\n",
       "  </tbody>\n",
       "</table>\n",
       "</div>"
      ],
      "text/plain": [
       "Empty DataFrame\n",
       "Columns: [item_id, title, images, categories, description, details, average_rating, rating_number]\n",
       "Index: []"
      ]
     },
     "execution_count": 36,
     "metadata": {},
     "output_type": "execute_result"
    }
   ],
   "source": [
    "items[items.isnull().sum(axis=1)>=1]"
   ]
  },
  {
   "cell_type": "markdown",
   "id": "0e81bcf4-7ac1-4874-ba00-ed88574ed7f4",
   "metadata": {},
   "source": [
    "#### Ritems"
   ]
  },
  {
   "cell_type": "code",
   "execution_count": 38,
   "id": "cba02cab-5150-479f-8724-10eaaf97d766",
   "metadata": {},
   "outputs": [
    {
     "data": {
      "text/plain": [
       "user_id    0\n",
       "item_id    0\n",
       "rating     0\n",
       "dtype: int64"
      ]
     },
     "execution_count": 38,
     "metadata": {},
     "output_type": "execute_result"
    }
   ],
   "source": [
    "ritems.isnull().sum()"
   ]
  },
  {
   "cell_type": "code",
   "execution_count": 39,
   "id": "51e3bf86-d850-4469-9c3b-3c25899f4d08",
   "metadata": {},
   "outputs": [],
   "source": [
    "items.to_csv(\"magazine_items\",index=False)\n",
    "ritems.to_csv(\"magazine_recommend_items\",index=False)"
   ]
  },
  {
   "cell_type": "markdown",
   "id": "442f07a2-07cb-4941-b542-ee547ac16c0a",
   "metadata": {},
   "source": [
    "## Recommend System"
   ]
  },
  {
   "cell_type": "code",
   "execution_count": 41,
   "id": "32b43f2a-fc7c-4a3c-af86-a0e3643b3d24",
   "metadata": {},
   "outputs": [
    {
     "data": {
      "text/html": [
       "<div>\n",
       "<style scoped>\n",
       "    .dataframe tbody tr th:only-of-type {\n",
       "        vertical-align: middle;\n",
       "    }\n",
       "\n",
       "    .dataframe tbody tr th {\n",
       "        vertical-align: top;\n",
       "    }\n",
       "\n",
       "    .dataframe thead th {\n",
       "        text-align: right;\n",
       "    }\n",
       "</style>\n",
       "<table border=\"1\" class=\"dataframe\">\n",
       "  <thead>\n",
       "    <tr style=\"text-align: right;\">\n",
       "      <th></th>\n",
       "      <th>item_id</th>\n",
       "      <th>title</th>\n",
       "      <th>images</th>\n",
       "      <th>categories</th>\n",
       "      <th>description</th>\n",
       "      <th>details</th>\n",
       "      <th>average_rating</th>\n",
       "      <th>rating_number</th>\n",
       "    </tr>\n",
       "  </thead>\n",
       "  <tbody>\n",
       "    <tr>\n",
       "      <th>0</th>\n",
       "      <td>b00fa7t630</td>\n",
       "      <td>gq print access,print magazine</td>\n",
       "      <td>{'thumb': 'https://m.media-amazon.com/images/I...</td>\n",
       "      <td>magazine subscriptions</td>\n",
       "      <td>product description, dive into, gq, ’s culture...</td>\n",
       "      <td>{'Date First Available': 'June 2, 2020', 'Manu...</td>\n",
       "      <td>3.6</td>\n",
       "      <td>10</td>\n",
       "    </tr>\n",
       "    <tr>\n",
       "      <th>1</th>\n",
       "      <td>b00f8p62po</td>\n",
       "      <td>hi-fi +,print magazine</td>\n",
       "      <td>{'thumb': 'https://m.media-amazon.com/images/I...</td>\n",
       "      <td>magazine subscriptions</td>\n",
       "      <td>hi-fi+ is europe's premier english-language hi...</td>\n",
       "      <td>{'Date First Available': 'September 19, 2013',...</td>\n",
       "      <td>4.4</td>\n",
       "      <td>44</td>\n",
       "    </tr>\n",
       "    <tr>\n",
       "      <th>2</th>\n",
       "      <td>b003f1w9t6</td>\n",
       "      <td>paper crafts</td>\n",
       "      <td>{'thumb': 'https://m.media-amazon.com/images/I...</td>\n",
       "      <td>magazine subscriptions</td>\n",
       "      <td></td>\n",
       "      <td>{'Date First Available': 'May 12, 2021'}</td>\n",
       "      <td>3.0</td>\n",
       "      <td>3</td>\n",
       "    </tr>\n",
       "    <tr>\n",
       "      <th>3</th>\n",
       "      <td>b00007axx1</td>\n",
       "      <td>horse illustrated</td>\n",
       "      <td>{'thumb': 'https://m.media-amazon.com/images/I...</td>\n",
       "      <td>magazine subscriptions</td>\n",
       "      <td></td>\n",
       "      <td>{'Package Dimensions': '10.79 x 8.11 x 0.31 in...</td>\n",
       "      <td>4.5</td>\n",
       "      <td>284</td>\n",
       "    </tr>\n",
       "    <tr>\n",
       "      <th>4</th>\n",
       "      <td>b00007azs2</td>\n",
       "      <td>motorcyclist</td>\n",
       "      <td>{'thumb': 'https://m.media-amazon.com/images/I...</td>\n",
       "      <td>magazine subscriptions</td>\n",
       "      <td></td>\n",
       "      <td>{'Date First Available': 'April 30, 2015'}</td>\n",
       "      <td>3.0</td>\n",
       "      <td>10</td>\n",
       "    </tr>\n",
       "  </tbody>\n",
       "</table>\n",
       "</div>"
      ],
      "text/plain": [
       "      item_id                           title  \\\n",
       "0  b00fa7t630  gq print access,print magazine   \n",
       "1  b00f8p62po          hi-fi +,print magazine   \n",
       "2  b003f1w9t6                    paper crafts   \n",
       "3  b00007axx1               horse illustrated   \n",
       "4  b00007azs2                    motorcyclist   \n",
       "\n",
       "                                              images              categories  \\\n",
       "0  {'thumb': 'https://m.media-amazon.com/images/I...  magazine subscriptions   \n",
       "1  {'thumb': 'https://m.media-amazon.com/images/I...  magazine subscriptions   \n",
       "2  {'thumb': 'https://m.media-amazon.com/images/I...  magazine subscriptions   \n",
       "3  {'thumb': 'https://m.media-amazon.com/images/I...  magazine subscriptions   \n",
       "4  {'thumb': 'https://m.media-amazon.com/images/I...  magazine subscriptions   \n",
       "\n",
       "                                         description  \\\n",
       "0  product description, dive into, gq, ’s culture...   \n",
       "1  hi-fi+ is europe's premier english-language hi...   \n",
       "2                                                      \n",
       "3                                                      \n",
       "4                                                      \n",
       "\n",
       "                                             details  average_rating  \\\n",
       "0  {'Date First Available': 'June 2, 2020', 'Manu...             3.6   \n",
       "1  {'Date First Available': 'September 19, 2013',...             4.4   \n",
       "2           {'Date First Available': 'May 12, 2021'}             3.0   \n",
       "3  {'Package Dimensions': '10.79 x 8.11 x 0.31 in...             4.5   \n",
       "4         {'Date First Available': 'April 30, 2015'}             3.0   \n",
       "\n",
       "   rating_number  \n",
       "0             10  \n",
       "1             44  \n",
       "2              3  \n",
       "3            284  \n",
       "4             10  "
      ]
     },
     "execution_count": 41,
     "metadata": {},
     "output_type": "execute_result"
    }
   ],
   "source": [
    "items.head()"
   ]
  },
  {
   "cell_type": "code",
   "execution_count": 42,
   "id": "427b5901-df15-4c80-ad9c-b0fdd7f2ef02",
   "metadata": {},
   "outputs": [],
   "source": [
    "pitems=items[[\"title\",\"average_rating\",\"rating_number\"]]"
   ]
  },
  {
   "cell_type": "code",
   "execution_count": 43,
   "id": "eed7b0a8-4ee6-4a4f-ae46-c8e8fcb4b0dc",
   "metadata": {},
   "outputs": [
    {
     "data": {
      "text/html": [
       "<div>\n",
       "<style scoped>\n",
       "    .dataframe tbody tr th:only-of-type {\n",
       "        vertical-align: middle;\n",
       "    }\n",
       "\n",
       "    .dataframe tbody tr th {\n",
       "        vertical-align: top;\n",
       "    }\n",
       "\n",
       "    .dataframe thead th {\n",
       "        text-align: right;\n",
       "    }\n",
       "</style>\n",
       "<table border=\"1\" class=\"dataframe\">\n",
       "  <thead>\n",
       "    <tr style=\"text-align: right;\">\n",
       "      <th></th>\n",
       "      <th>title</th>\n",
       "      <th>average_rating</th>\n",
       "      <th>rating_number</th>\n",
       "    </tr>\n",
       "  </thead>\n",
       "  <tbody>\n",
       "    <tr>\n",
       "      <th>0</th>\n",
       "      <td>gq print access,print magazine</td>\n",
       "      <td>3.6</td>\n",
       "      <td>10</td>\n",
       "    </tr>\n",
       "    <tr>\n",
       "      <th>1</th>\n",
       "      <td>hi-fi +,print magazine</td>\n",
       "      <td>4.4</td>\n",
       "      <td>44</td>\n",
       "    </tr>\n",
       "    <tr>\n",
       "      <th>2</th>\n",
       "      <td>paper crafts</td>\n",
       "      <td>3.0</td>\n",
       "      <td>3</td>\n",
       "    </tr>\n",
       "    <tr>\n",
       "      <th>3</th>\n",
       "      <td>horse illustrated</td>\n",
       "      <td>4.5</td>\n",
       "      <td>284</td>\n",
       "    </tr>\n",
       "    <tr>\n",
       "      <th>4</th>\n",
       "      <td>motorcyclist</td>\n",
       "      <td>3.0</td>\n",
       "      <td>10</td>\n",
       "    </tr>\n",
       "  </tbody>\n",
       "</table>\n",
       "</div>"
      ],
      "text/plain": [
       "                            title  average_rating  rating_number\n",
       "0  gq print access,print magazine             3.6             10\n",
       "1          hi-fi +,print magazine             4.4             44\n",
       "2                    paper crafts             3.0              3\n",
       "3               horse illustrated             4.5            284\n",
       "4                    motorcyclist             3.0             10"
      ]
     },
     "execution_count": 43,
     "metadata": {},
     "output_type": "execute_result"
    }
   ],
   "source": [
    "pitems.head()"
   ]
  },
  {
   "cell_type": "code",
   "execution_count": 44,
   "id": "0e2e23fd-ce46-4cdf-af9b-7ffb97d1c114",
   "metadata": {},
   "outputs": [
    {
     "data": {
      "text/html": [
       "<div>\n",
       "<style scoped>\n",
       "    .dataframe tbody tr th:only-of-type {\n",
       "        vertical-align: middle;\n",
       "    }\n",
       "\n",
       "    .dataframe tbody tr th {\n",
       "        vertical-align: top;\n",
       "    }\n",
       "\n",
       "    .dataframe thead th {\n",
       "        text-align: right;\n",
       "    }\n",
       "</style>\n",
       "<table border=\"1\" class=\"dataframe\">\n",
       "  <thead>\n",
       "    <tr style=\"text-align: right;\">\n",
       "      <th></th>\n",
       "      <th>title</th>\n",
       "      <th>average_rating</th>\n",
       "    </tr>\n",
       "  </thead>\n",
       "  <tbody>\n",
       "    <tr>\n",
       "      <th>3390</th>\n",
       "      <td>modern pioneer,print magazine</td>\n",
       "      <td>5.0</td>\n",
       "    </tr>\n",
       "    <tr>\n",
       "      <th>593</th>\n",
       "      <td>eltern,print magazine</td>\n",
       "      <td>5.0</td>\n",
       "    </tr>\n",
       "    <tr>\n",
       "      <th>580</th>\n",
       "      <td>new york amsterdam news</td>\n",
       "      <td>5.0</td>\n",
       "    </tr>\n",
       "    <tr>\n",
       "      <th>2264</th>\n",
       "      <td>the new yorker digital access + 2017 cartoon c...</td>\n",
       "      <td>5.0</td>\n",
       "    </tr>\n",
       "    <tr>\n",
       "      <th>2261</th>\n",
       "      <td>joy of kosher with jamie geller,print magazine</td>\n",
       "      <td>5.0</td>\n",
       "    </tr>\n",
       "    <tr>\n",
       "      <th>2253</th>\n",
       "      <td>wild fibers</td>\n",
       "      <td>5.0</td>\n",
       "    </tr>\n",
       "    <tr>\n",
       "      <th>2252</th>\n",
       "      <td>thrive magazine,print magazine</td>\n",
       "      <td>5.0</td>\n",
       "    </tr>\n",
       "    <tr>\n",
       "      <th>588</th>\n",
       "      <td>high country news</td>\n",
       "      <td>5.0</td>\n",
       "    </tr>\n",
       "    <tr>\n",
       "      <th>590</th>\n",
       "      <td>mani di fata,print magazine</td>\n",
       "      <td>5.0</td>\n",
       "    </tr>\n",
       "    <tr>\n",
       "      <th>597</th>\n",
       "      <td>volleyball usa,print magazine</td>\n",
       "      <td>5.0</td>\n",
       "    </tr>\n",
       "  </tbody>\n",
       "</table>\n",
       "</div>"
      ],
      "text/plain": [
       "                                                  title  average_rating\n",
       "3390                      modern pioneer,print magazine             5.0\n",
       "593                               eltern,print magazine             5.0\n",
       "580                             new york amsterdam news             5.0\n",
       "2264  the new yorker digital access + 2017 cartoon c...             5.0\n",
       "2261     joy of kosher with jamie geller,print magazine             5.0\n",
       "2253                                        wild fibers             5.0\n",
       "2252                     thrive magazine,print magazine             5.0\n",
       "588                                   high country news             5.0\n",
       "590                         mani di fata,print magazine             5.0\n",
       "597                       volleyball usa,print magazine             5.0"
      ]
     },
     "execution_count": 44,
     "metadata": {},
     "output_type": "execute_result"
    }
   ],
   "source": [
    "pitems.sort_values(by='average_rating', ascending=False)[0:10][['title','average_rating']]"
   ]
  },
  {
   "cell_type": "code",
   "execution_count": 45,
   "id": "67876727-496f-40aa-9f91-f6a3ac5cafb9",
   "metadata": {},
   "outputs": [
    {
     "data": {
      "text/html": [
       "<div>\n",
       "<style scoped>\n",
       "    .dataframe tbody tr th:only-of-type {\n",
       "        vertical-align: middle;\n",
       "    }\n",
       "\n",
       "    .dataframe tbody tr th {\n",
       "        vertical-align: top;\n",
       "    }\n",
       "\n",
       "    .dataframe thead th {\n",
       "        text-align: right;\n",
       "    }\n",
       "</style>\n",
       "<table border=\"1\" class=\"dataframe\">\n",
       "  <thead>\n",
       "    <tr style=\"text-align: right;\">\n",
       "      <th></th>\n",
       "      <th>title</th>\n",
       "      <th>rating_number</th>\n",
       "    </tr>\n",
       "  </thead>\n",
       "  <tbody>\n",
       "    <tr>\n",
       "      <th>1174</th>\n",
       "      <td>family handyman,print magazine</td>\n",
       "      <td>24461</td>\n",
       "    </tr>\n",
       "    <tr>\n",
       "      <th>1182</th>\n",
       "      <td>family handyman,print magazine</td>\n",
       "      <td>24461</td>\n",
       "    </tr>\n",
       "    <tr>\n",
       "      <th>1710</th>\n",
       "      <td>family handyman,print magazine</td>\n",
       "      <td>24454</td>\n",
       "    </tr>\n",
       "    <tr>\n",
       "      <th>266</th>\n",
       "      <td>reader's digest,print magazine</td>\n",
       "      <td>19774</td>\n",
       "    </tr>\n",
       "    <tr>\n",
       "      <th>353</th>\n",
       "      <td>reader's digest(discontinued asin),print magazine</td>\n",
       "      <td>19772</td>\n",
       "    </tr>\n",
       "    <tr>\n",
       "      <th>1851</th>\n",
       "      <td>reader's digest,print magazine</td>\n",
       "      <td>19735</td>\n",
       "    </tr>\n",
       "    <tr>\n",
       "      <th>405</th>\n",
       "      <td>real simple,print magazine</td>\n",
       "      <td>17547</td>\n",
       "    </tr>\n",
       "    <tr>\n",
       "      <th>702</th>\n",
       "      <td>real simple,print magazine</td>\n",
       "      <td>17542</td>\n",
       "    </tr>\n",
       "    <tr>\n",
       "      <th>1508</th>\n",
       "      <td>real simple,print magazine</td>\n",
       "      <td>17532</td>\n",
       "    </tr>\n",
       "    <tr>\n",
       "      <th>326</th>\n",
       "      <td>national geographic kids</td>\n",
       "      <td>17312</td>\n",
       "    </tr>\n",
       "  </tbody>\n",
       "</table>\n",
       "</div>"
      ],
      "text/plain": [
       "                                                  title  rating_number\n",
       "1174                     family handyman,print magazine          24461\n",
       "1182                     family handyman,print magazine          24461\n",
       "1710                     family handyman,print magazine          24454\n",
       "266                      reader's digest,print magazine          19774\n",
       "353   reader's digest(discontinued asin),print magazine          19772\n",
       "1851                     reader's digest,print magazine          19735\n",
       "405                          real simple,print magazine          17547\n",
       "702                          real simple,print magazine          17542\n",
       "1508                         real simple,print magazine          17532\n",
       "326                            national geographic kids          17312"
      ]
     },
     "execution_count": 45,
     "metadata": {},
     "output_type": "execute_result"
    }
   ],
   "source": [
    "pitems.sort_values(by='rating_number', ascending=False)[0:10][['title','rating_number']]"
   ]
  },
  {
   "attachments": {},
   "cell_type": "markdown",
   "id": "2549a5e6-9a8b-4d69-85c4-23a002ce359d",
   "metadata": {},
   "source": [
    "Above data have two type of recommendation so So we need to popularity score based on average rating and number of ratings,\n",
    "- weighted average rating for each item as popularity score formula*\n",
    "  - **Popularuty score = avg rating * no. rating / sum( no of rating)**\n",
    "  "
   ]
  },
  {
   "cell_type": "code",
   "execution_count": 47,
   "id": "8b5397fb-5aa1-4dbf-bba3-9dbf3080355c",
   "metadata": {},
   "outputs": [],
   "source": [
    "pitems[\"pscore\"]=round((pitems['average_rating']*pitems['rating_number']) / (pitems['rating_number'].mean()),2)"
   ]
  },
  {
   "cell_type": "code",
   "execution_count": 48,
   "id": "855fe2e6-7d9a-4d5c-b274-3d753a7da71a",
   "metadata": {},
   "outputs": [
    {
     "data": {
      "text/html": [
       "<div>\n",
       "<style scoped>\n",
       "    .dataframe tbody tr th:only-of-type {\n",
       "        vertical-align: middle;\n",
       "    }\n",
       "\n",
       "    .dataframe tbody tr th {\n",
       "        vertical-align: top;\n",
       "    }\n",
       "\n",
       "    .dataframe thead th {\n",
       "        text-align: right;\n",
       "    }\n",
       "</style>\n",
       "<table border=\"1\" class=\"dataframe\">\n",
       "  <thead>\n",
       "    <tr style=\"text-align: right;\">\n",
       "      <th></th>\n",
       "      <th>title</th>\n",
       "      <th>average_rating</th>\n",
       "      <th>rating_number</th>\n",
       "      <th>pscore</th>\n",
       "    </tr>\n",
       "  </thead>\n",
       "  <tbody>\n",
       "    <tr>\n",
       "      <th>0</th>\n",
       "      <td>gq print access,print magazine</td>\n",
       "      <td>3.6</td>\n",
       "      <td>10</td>\n",
       "      <td>0.10</td>\n",
       "    </tr>\n",
       "    <tr>\n",
       "      <th>1</th>\n",
       "      <td>hi-fi +,print magazine</td>\n",
       "      <td>4.4</td>\n",
       "      <td>44</td>\n",
       "      <td>0.56</td>\n",
       "    </tr>\n",
       "    <tr>\n",
       "      <th>2</th>\n",
       "      <td>paper crafts</td>\n",
       "      <td>3.0</td>\n",
       "      <td>3</td>\n",
       "      <td>0.03</td>\n",
       "    </tr>\n",
       "    <tr>\n",
       "      <th>3</th>\n",
       "      <td>horse illustrated</td>\n",
       "      <td>4.5</td>\n",
       "      <td>284</td>\n",
       "      <td>3.68</td>\n",
       "    </tr>\n",
       "    <tr>\n",
       "      <th>4</th>\n",
       "      <td>motorcyclist</td>\n",
       "      <td>3.0</td>\n",
       "      <td>10</td>\n",
       "      <td>0.09</td>\n",
       "    </tr>\n",
       "  </tbody>\n",
       "</table>\n",
       "</div>"
      ],
      "text/plain": [
       "                            title  average_rating  rating_number  pscore\n",
       "0  gq print access,print magazine             3.6             10    0.10\n",
       "1          hi-fi +,print magazine             4.4             44    0.56\n",
       "2                    paper crafts             3.0              3    0.03\n",
       "3               horse illustrated             4.5            284    3.68\n",
       "4                    motorcyclist             3.0             10    0.09"
      ]
     },
     "execution_count": 48,
     "metadata": {},
     "output_type": "execute_result"
    }
   ],
   "source": [
    "pitems.head()"
   ]
  },
  {
   "cell_type": "code",
   "execution_count": 49,
   "id": "7d6c808c-009b-4eab-bfcb-2d80adf4c2ae",
   "metadata": {},
   "outputs": [
    {
     "data": {
      "text/html": [
       "<div>\n",
       "<style scoped>\n",
       "    .dataframe tbody tr th:only-of-type {\n",
       "        vertical-align: middle;\n",
       "    }\n",
       "\n",
       "    .dataframe tbody tr th {\n",
       "        vertical-align: top;\n",
       "    }\n",
       "\n",
       "    .dataframe thead th {\n",
       "        text-align: right;\n",
       "    }\n",
       "</style>\n",
       "<table border=\"1\" class=\"dataframe\">\n",
       "  <thead>\n",
       "    <tr style=\"text-align: right;\">\n",
       "      <th></th>\n",
       "      <th>title</th>\n",
       "      <th>pscore</th>\n",
       "    </tr>\n",
       "  </thead>\n",
       "  <tbody>\n",
       "    <tr>\n",
       "      <th>1182</th>\n",
       "      <td>family handyman,print magazine</td>\n",
       "      <td>316.78</td>\n",
       "    </tr>\n",
       "    <tr>\n",
       "      <th>1174</th>\n",
       "      <td>family handyman,print magazine</td>\n",
       "      <td>316.78</td>\n",
       "    </tr>\n",
       "    <tr>\n",
       "      <th>1710</th>\n",
       "      <td>family handyman,print magazine</td>\n",
       "      <td>316.69</td>\n",
       "    </tr>\n",
       "    <tr>\n",
       "      <th>266</th>\n",
       "      <td>reader's digest,print magazine</td>\n",
       "      <td>261.77</td>\n",
       "    </tr>\n",
       "    <tr>\n",
       "      <th>353</th>\n",
       "      <td>reader's digest(discontinued asin),print magazine</td>\n",
       "      <td>261.74</td>\n",
       "    </tr>\n",
       "    <tr>\n",
       "      <th>1851</th>\n",
       "      <td>reader's digest,print magazine</td>\n",
       "      <td>261.25</td>\n",
       "    </tr>\n",
       "    <tr>\n",
       "      <th>326</th>\n",
       "      <td>national geographic kids</td>\n",
       "      <td>234.16</td>\n",
       "    </tr>\n",
       "    <tr>\n",
       "      <th>1055</th>\n",
       "      <td>national geographic kids,print magazine</td>\n",
       "      <td>234.13</td>\n",
       "    </tr>\n",
       "    <tr>\n",
       "      <th>1247</th>\n",
       "      <td>national geographic kids</td>\n",
       "      <td>234.12</td>\n",
       "    </tr>\n",
       "    <tr>\n",
       "      <th>405</th>\n",
       "      <td>real simple,print magazine</td>\n",
       "      <td>232.29</td>\n",
       "    </tr>\n",
       "  </tbody>\n",
       "</table>\n",
       "</div>"
      ],
      "text/plain": [
       "                                                  title  pscore\n",
       "1182                     family handyman,print magazine  316.78\n",
       "1174                     family handyman,print magazine  316.78\n",
       "1710                     family handyman,print magazine  316.69\n",
       "266                      reader's digest,print magazine  261.77\n",
       "353   reader's digest(discontinued asin),print magazine  261.74\n",
       "1851                     reader's digest,print magazine  261.25\n",
       "326                            national geographic kids  234.16\n",
       "1055            national geographic kids,print magazine  234.13\n",
       "1247                           national geographic kids  234.12\n",
       "405                          real simple,print magazine  232.29"
      ]
     },
     "execution_count": 49,
     "metadata": {},
     "output_type": "execute_result"
    }
   ],
   "source": [
    "pitems.sort_values(by='pscore', ascending=False)[0:10][['title','pscore']]"
   ]
  },
  {
   "cell_type": "code",
   "execution_count": 50,
   "id": "3c3cf543-3dcf-456e-b2f7-59f262cce0c2",
   "metadata": {},
   "outputs": [
    {
     "data": {
      "text/html": [
       "<div>\n",
       "<style scoped>\n",
       "    .dataframe tbody tr th:only-of-type {\n",
       "        vertical-align: middle;\n",
       "    }\n",
       "\n",
       "    .dataframe tbody tr th {\n",
       "        vertical-align: top;\n",
       "    }\n",
       "\n",
       "    .dataframe thead th {\n",
       "        text-align: right;\n",
       "    }\n",
       "</style>\n",
       "<table border=\"1\" class=\"dataframe\">\n",
       "  <thead>\n",
       "    <tr style=\"text-align: right;\">\n",
       "      <th></th>\n",
       "      <th>item_id</th>\n",
       "      <th>title</th>\n",
       "      <th>images</th>\n",
       "      <th>categories</th>\n",
       "      <th>description</th>\n",
       "      <th>details</th>\n",
       "      <th>average_rating</th>\n",
       "      <th>rating_number</th>\n",
       "    </tr>\n",
       "  </thead>\n",
       "  <tbody>\n",
       "    <tr>\n",
       "      <th>0</th>\n",
       "      <td>b00fa7t630</td>\n",
       "      <td>gq print access,print magazine</td>\n",
       "      <td>{'thumb': 'https://m.media-amazon.com/images/I...</td>\n",
       "      <td>magazine subscriptions</td>\n",
       "      <td>product description, dive into, gq, ’s culture...</td>\n",
       "      <td>{'Date First Available': 'June 2, 2020', 'Manu...</td>\n",
       "      <td>3.6</td>\n",
       "      <td>10</td>\n",
       "    </tr>\n",
       "    <tr>\n",
       "      <th>1</th>\n",
       "      <td>b00f8p62po</td>\n",
       "      <td>hi-fi +,print magazine</td>\n",
       "      <td>{'thumb': 'https://m.media-amazon.com/images/I...</td>\n",
       "      <td>magazine subscriptions</td>\n",
       "      <td>hi-fi+ is europe's premier english-language hi...</td>\n",
       "      <td>{'Date First Available': 'September 19, 2013',...</td>\n",
       "      <td>4.4</td>\n",
       "      <td>44</td>\n",
       "    </tr>\n",
       "  </tbody>\n",
       "</table>\n",
       "</div>"
      ],
      "text/plain": [
       "      item_id                           title  \\\n",
       "0  b00fa7t630  gq print access,print magazine   \n",
       "1  b00f8p62po          hi-fi +,print magazine   \n",
       "\n",
       "                                              images              categories  \\\n",
       "0  {'thumb': 'https://m.media-amazon.com/images/I...  magazine subscriptions   \n",
       "1  {'thumb': 'https://m.media-amazon.com/images/I...  magazine subscriptions   \n",
       "\n",
       "                                         description  \\\n",
       "0  product description, dive into, gq, ’s culture...   \n",
       "1  hi-fi+ is europe's premier english-language hi...   \n",
       "\n",
       "                                             details  average_rating  \\\n",
       "0  {'Date First Available': 'June 2, 2020', 'Manu...             3.6   \n",
       "1  {'Date First Available': 'September 19, 2013',...             4.4   \n",
       "\n",
       "   rating_number  \n",
       "0             10  \n",
       "1             44  "
      ]
     },
     "execution_count": 50,
     "metadata": {},
     "output_type": "execute_result"
    }
   ],
   "source": [
    "items.head(2)"
   ]
  },
  {
   "cell_type": "code",
   "execution_count": 51,
   "id": "05b0d336-0f0d-4423-90bc-24a4962becd7",
   "metadata": {},
   "outputs": [],
   "source": [
    "indxs = pitems.sort_values(by='pscore', ascending=False)[0:10][['title']].index"
   ]
  },
  {
   "cell_type": "code",
   "execution_count": 213,
   "id": "256c5af1-1d59-4ed2-a222-353782713acb",
   "metadata": {},
   "outputs": [
    {
     "data": {
      "text/plain": [
       "Index([1182, 1174, 1710, 266, 353, 1851, 326, 1055, 1247, 405], dtype='int64')"
      ]
     },
     "execution_count": 213,
     "metadata": {},
     "output_type": "execute_result"
    }
   ],
   "source": [
    "indxs\n"
   ]
  },
  {
   "cell_type": "code",
   "execution_count": 237,
   "id": "9c209a97-015e-4457-b42f-fd78c94c92b8",
   "metadata": {},
   "outputs": [
    {
     "data": {
      "text/plain": [
       "(3391,)"
      ]
     },
     "execution_count": 237,
     "metadata": {},
     "output_type": "execute_result"
    }
   ],
   "source": []
  },
  {
   "cell_type": "code",
   "execution_count": 231,
   "id": "ef948219-3ee2-4e64-a866-141fc569b122",
   "metadata": {},
   "outputs": [
    {
     "data": {
      "text/plain": [
       "1843"
      ]
     },
     "execution_count": 231,
     "metadata": {},
     "output_type": "execute_result"
    }
   ],
   "source": []
  },
  {
   "cell_type": "code",
   "execution_count": 52,
   "id": "b57c85a5-adb0-4ecd-954d-f34323eab659",
   "metadata": {},
   "outputs": [],
   "source": [
    "from IPython.display import display,Image\n",
    "from simple_colors import *"
   ]
  },
  {
   "cell_type": "code",
   "execution_count": 53,
   "id": "6dcd94a0-cc7d-442c-8f99-bc35e9499c93",
   "metadata": {
    "scrolled": true
   },
   "outputs": [
    {
     "name": "stdout",
     "output_type": "stream",
     "text": [
      "\u001b[1;32mPopularity Based Recommendations:\u001b[0m\n",
      "\n",
      "**********************************\n",
      "\n",
      "\u001b[1;31mtitle:\u001b[0m family handyman,print magazine\n",
      "------------------------------------------------------\n"
     ]
    },
    {
     "data": {
      "text/html": [
       "<img src=\"https://m.media-amazon.com/images/I/61UyEcuZtbL._AC_.jpg\" width=\"300\" height=\"300\"/>"
      ],
      "text/plain": [
       "<IPython.core.display.Image object>"
      ]
     },
     "metadata": {},
     "output_type": "display_data"
    },
    {
     "name": "stdout",
     "output_type": "stream",
     "text": [
      "\n",
      "\u001b[1;35mcategories:\u001b[0m magazine subscriptions\n",
      "\n",
      "\u001b[1;35mdescription:\u001b[0m product description, the #1 magazine for do-it-yourself homeowners. step-by-step maintenance, repair and improvement projects, plus tool skills, diy tips, and product buying advice. lots of great ideas on storage, weekend projects, improving your yard, woodworking, and décor. cut the cost of owning a home and enjoy the satisfaction of doing it yourself!, amazon.com review, family handyman magazine provides everything readers need to complete home improvement projects and other jobs around the house. from a question & answers section for readers to articles detailing the top tools, you will find tips and suggestions on the best way to handle any project on your to-do list.  each issue of family handyman magazine includes a great goofs section, which details some of the worst mistakes that readers made around the house. if you ever felt silly after accidentally knocking out the power or forgetting to turn off the water, these stories will make you feel a little better and a little more confident. when you need advice, you can turn to the workshop tips section, where writers give you basic tips on how to work more efficiently in your workshop.  the new products section helps you learn more about specific tools and products for your projects. in addition to photographs and a basic description, the article also includes tips on using the product. family handyman magazine also has an ask the handyman section, where readers post questions and experts offer advice and tips, but you can also head to the handy hits section for even more tips. these tips come directly from readers just like you who found simple ways to make major projects go a little faster and more smoothly, including building projects and home improvement jobs.  subscribing to family handyman magazine is like getting advice from an expert who has years of experience building and working with his hands.\n",
      "\n",
      "\u001b[1;34mdetails:\u001b[0m {'Date First Available': 'September 22, 2009', 'Manufacturer': 'Trusted Media Brands, Inc.'}\n",
      "\n",
      "\u001b[1;31mtitle:\u001b[0m family handyman,print magazine\n",
      "------------------------------------------------------\n"
     ]
    },
    {
     "data": {
      "text/html": [
       "<img src=\"https://m.media-amazon.com/images/I/61UyEcuZtbL._AC_.jpg\" width=\"300\" height=\"300\"/>"
      ],
      "text/plain": [
       "<IPython.core.display.Image object>"
      ]
     },
     "metadata": {},
     "output_type": "display_data"
    },
    {
     "name": "stdout",
     "output_type": "stream",
     "text": [
      "\n",
      "\u001b[1;35mcategories:\u001b[0m magazine subscriptions\n",
      "\n",
      "\u001b[1;35mdescription:\u001b[0m \n",
      "\n",
      "\u001b[1;34mdetails:\u001b[0m {'Date First Available': 'December 21, 2010'}\n",
      "\n",
      "\u001b[1;31mtitle:\u001b[0m family handyman,print magazine\n",
      "------------------------------------------------------\n"
     ]
    },
    {
     "data": {
      "text/html": [
       "<img src=\"https://m.media-amazon.com/images/I/61UyEcuZtbL._AC_.jpg\" width=\"300\" height=\"300\"/>"
      ],
      "text/plain": [
       "<IPython.core.display.Image object>"
      ]
     },
     "metadata": {},
     "output_type": "display_data"
    },
    {
     "name": "stdout",
     "output_type": "stream",
     "text": [
      "\n",
      "\u001b[1;35mcategories:\u001b[0m magazine subscriptions\n",
      "\n",
      "\u001b[1;35mdescription:\u001b[0m \n",
      "\n",
      "\u001b[1;34mdetails:\u001b[0m {'Date First Available': 'September 19, 2006'}\n",
      "\n",
      "\u001b[1;31mtitle:\u001b[0m reader's digest,print magazine\n",
      "------------------------------------------------------\n"
     ]
    },
    {
     "data": {
      "text/html": [
       "<img src=\"https://m.media-amazon.com/images/I/61SIFLyqUcL._AC_.jpg\" width=\"300\" height=\"300\"/>"
      ],
      "text/plain": [
       "<IPython.core.display.Image object>"
      ]
     },
     "metadata": {},
     "output_type": "display_data"
    },
    {
     "name": "stdout",
     "output_type": "stream",
     "text": [
      "\n",
      "\u001b[1;35mcategories:\u001b[0m magazine subscriptions\n",
      "\n",
      "\u001b[1;35mdescription:\u001b[0m \n",
      "\n",
      "\u001b[1;34mdetails:\u001b[0m {'Date First Available': 'December 21, 2010'}\n",
      "\n",
      "\u001b[1;31mtitle:\u001b[0m reader's digest(discontinued asin),print magazine\n",
      "------------------------------------------------------\n"
     ]
    },
    {
     "data": {
      "text/html": [
       "<img src=\"https://m.media-amazon.com/images/I/616I999wFPL._AC_.jpg\" width=\"300\" height=\"300\"/>"
      ],
      "text/plain": [
       "<IPython.core.display.Image object>"
      ]
     },
     "metadata": {},
     "output_type": "display_data"
    },
    {
     "name": "stdout",
     "output_type": "stream",
     "text": [
      "\n",
      "\u001b[1;35mcategories:\u001b[0m magazine subscriptions\n",
      "\n",
      "\u001b[1;35mdescription:\u001b[0m discover thousands of tips in health, family, home, money and more for living a richer, more satisfying life. it’s everything you need, in one easy read!\n",
      "\n",
      "\u001b[1;34mdetails:\u001b[0m {'Date First Available': 'September 17, 2015', 'Manufacturer': 'Trusted Media Brands, Inc.'}\n",
      "\n",
      "\u001b[1;31mtitle:\u001b[0m reader's digest,print magazine\n",
      "------------------------------------------------------\n"
     ]
    },
    {
     "data": {
      "text/html": [
       "<img src=\"https://m.media-amazon.com/images/I/61SIFLyqUcL._AC_.jpg\" width=\"300\" height=\"300\"/>"
      ],
      "text/plain": [
       "<IPython.core.display.Image object>"
      ]
     },
     "metadata": {},
     "output_type": "display_data"
    },
    {
     "name": "stdout",
     "output_type": "stream",
     "text": [
      "\n",
      "\u001b[1;35mcategories:\u001b[0m magazine subscriptions\n",
      "\n",
      "\u001b[1;35mdescription:\u001b[0m product description, contains digest and original articles on a wide variety of health-related topics. also contains short abstracts of current medical progress in section entitled \"news from the world of medicine.\", amazon.com review, every month, reader's digest magazine comes out with what's new in health, books, humor, food, and more. reader's digest is easy to read, with colorful art, smart features, and a handsome layout with plenty of room for all the latest in the areas that matter to you. subscribers to reader's digest magazine enjoy the inspiring true stories, the healthy recipes, and the helpful hints for around the house.  every issue of reader's digest magazine is packed with your favorite features. there's always a compelling main article for the latest in literature. all in a day's work and humor in uniform are great fun and full of jokes and anecdotes you'll share with your friends, while test your brainpower sharpens the wit and that's outrageous can keep you up to speed on some of the most important problems we all face in society.  reader's digest magazine's content is fun and informative. in it, you'll find everything from uplifting stories of personal achievement and charming illustrations, to health news and family features. do you wish you could have a periodical that's packed with great stories from around the world, or a resource in the home that has something great for every member of the family? reader's digest magazine has what you're looking for.  a subscription to reader's digest magazine brings the world home in a package you'll find yourself dipping into again and again. a reader's digest in your home is a treasure everyone can enjoy, from kids to grownups.\n",
      "\n",
      "\u001b[1;34mdetails:\u001b[0m {'Date First Available': 'December 21, 2010', 'Manufacturer': 'Trusted Media Brands, Inc.'}\n",
      "\n",
      "\u001b[1;31mtitle:\u001b[0m national geographic kids\n",
      "------------------------------------------------------\n"
     ]
    },
    {
     "data": {
      "text/html": [
       "<img src=\"https://m.media-amazon.com/images/I/61WZ2S11U+L._AC_.jpg\" width=\"300\" height=\"300\"/>"
      ],
      "text/plain": [
       "<IPython.core.display.Image object>"
      ]
     },
     "metadata": {},
     "output_type": "display_data"
    },
    {
     "name": "stdout",
     "output_type": "stream",
     "text": [
      "\n",
      "\u001b[1;35mcategories:\u001b[0m magazine subscriptions\n",
      "\n",
      "\u001b[1;35mdescription:\u001b[0m \n",
      "\n",
      "\u001b[1;34mdetails:\u001b[0m {'Item Weight': '0.01 Ounces', 'Date First Available': 'April 4, 2019'}\n",
      "\n",
      "\u001b[1;31mtitle:\u001b[0m national geographic kids,print magazine\n",
      "------------------------------------------------------\n"
     ]
    },
    {
     "data": {
      "text/html": [
       "<img src=\"https://m.media-amazon.com/images/I/61WZ2S11U+L._AC_.jpg\" width=\"300\" height=\"300\"/>"
      ],
      "text/plain": [
       "<IPython.core.display.Image object>"
      ]
     },
     "metadata": {},
     "output_type": "display_data"
    },
    {
     "name": "stdout",
     "output_type": "stream",
     "text": [
      "\n",
      "\u001b[1;35mcategories:\u001b[0m magazine subscriptions\n",
      "\n",
      "\u001b[1;35mdescription:\u001b[0m product description, national geographic kids is a fact-filled, fast-paced magazine created especially for ages 6 and up. with an award-winning combination of photos, facts, and fun, ng kids has captivated its more than one million readers for over 35 years. articles and departments entertain and inspire readers to learn about their world with amazing information about animals, science, technology, archaeology, geography, and pop culture, plus jokes, games, activities in every issue., amazon.com review, national geographic kids magazine is aimed at young readers from six years and up who want to find out more about the world around them. the magazine contains a superb blend of photos, fun facts, and articles presented in a cheery style, making it perfect for keeping kids' attention. national geographic kids magazine has been presenting information to kids in an accessible way for over thirty-five years.  you can expect the same kind of subjects to be included in national geographic kids magazine that you get in the adult version-animals, science, archaeology, and geography-but with technology and pop culture added to the mix too. as you might expect, there is also a strong emphasis on magnificent wildlife photography. frequent appearances of animal posters can be found within the pages, as well as high-quality photographs sprinkled throughout the magazine. the addition of games and jokes, alongside other activities such as puzzles and competitions, keeps the subjects light, while still getting across the important facts.  your children can explore ancient civilizations on one page, come face-to-face with exotic wildlife on another, and turn the next page to a make and do project, which is often perfect for homework. there are always plenty of gross/interesting facts about animals that your children are certain to share with you, or they can turn to the page that gives them the low-down on their favorite star. regular competitions are sure to keep your kids involved too.  this quality publication ensures that your children learn while still having fun, so they are more likely to retain the information. national geographic kids magazine really helps to bring the world to life, and gets your children excited about learning.\n",
      "\n",
      "\u001b[1;34mdetails:\u001b[0m {'Date First Available': 'September 19, 2006', 'Manufacturer': 'National Geographic Partners LLC'}\n",
      "\n",
      "\u001b[1;31mtitle:\u001b[0m national geographic kids\n",
      "------------------------------------------------------\n"
     ]
    },
    {
     "data": {
      "text/html": [
       "<img src=\"https://m.media-amazon.com/images/I/61WZ2S11U+L._AC_.jpg\" width=\"300\" height=\"300\"/>"
      ],
      "text/plain": [
       "<IPython.core.display.Image object>"
      ]
     },
     "metadata": {},
     "output_type": "display_data"
    },
    {
     "name": "stdout",
     "output_type": "stream",
     "text": [
      "\n",
      "\u001b[1;35mcategories:\u001b[0m magazine subscriptions\n",
      "\n",
      "\u001b[1;35mdescription:\u001b[0m \n",
      "\n",
      "\u001b[1;34mdetails:\u001b[0m {'Date First Available': 'September 22, 2009'}\n",
      "\n",
      "\u001b[1;31mtitle:\u001b[0m real simple,print magazine\n",
      "------------------------------------------------------\n"
     ]
    },
    {
     "data": {
      "text/html": [
       "<img src=\"https://m.media-amazon.com/images/I/61JHew9RqFL._AC_.jpg\" width=\"300\" height=\"300\"/>"
      ],
      "text/plain": [
       "<IPython.core.display.Image object>"
      ]
     },
     "metadata": {},
     "output_type": "display_data"
    },
    {
     "name": "stdout",
     "output_type": "stream",
     "text": [
      "\n",
      "\u001b[1;35mcategories:\u001b[0m magazine subscriptions\n",
      "\n",
      "\u001b[1;35mdescription:\u001b[0m \n",
      "\n",
      "\u001b[1;34mdetails:\u001b[0m {'Date First Available': 'September 25, 2014'}\n",
      "\n"
     ]
    }
   ],
   "source": [
    "print(green(\"Popularity Based Recommendations:\",['bold']))\n",
    "print()\n",
    "print(\"**********************************\")\n",
    "print()\n",
    "for indx in indxs:\n",
    "    print(red(\"title:\",['bold']), items['title'][indx])\n",
    "    print(\"------------------------------------------------------\")\n",
    "    display(Image(url=items['images'][indx]['large'], width=300, height=300))\n",
    "    print()\n",
    "    print(magenta(\"categories:\",['bold']), items['categories'][indx])\n",
    "    print()\n",
    "    print(magenta(\"description:\",['bold']), items['description'][indx])\n",
    "    print()\n",
    "    print(blue(\"details:\",['bold']), items['details'][indx])\n",
    "    print()"
   ]
  },
  {
   "cell_type": "markdown",
   "id": "87107c98-2978-4caf-82d7-22e37a7768a4",
   "metadata": {},
   "source": [
    "## Content based Recommendation"
   ]
  },
  {
   "cell_type": "code",
   "execution_count": 55,
   "id": "018d239d-2fd2-4085-bde9-aa61f3cd8812",
   "metadata": {},
   "outputs": [
    {
     "data": {
      "text/html": [
       "<div>\n",
       "<style scoped>\n",
       "    .dataframe tbody tr th:only-of-type {\n",
       "        vertical-align: middle;\n",
       "    }\n",
       "\n",
       "    .dataframe tbody tr th {\n",
       "        vertical-align: top;\n",
       "    }\n",
       "\n",
       "    .dataframe thead th {\n",
       "        text-align: right;\n",
       "    }\n",
       "</style>\n",
       "<table border=\"1\" class=\"dataframe\">\n",
       "  <thead>\n",
       "    <tr style=\"text-align: right;\">\n",
       "      <th></th>\n",
       "      <th>item_id</th>\n",
       "      <th>title</th>\n",
       "      <th>images</th>\n",
       "      <th>categories</th>\n",
       "      <th>description</th>\n",
       "      <th>details</th>\n",
       "      <th>average_rating</th>\n",
       "      <th>rating_number</th>\n",
       "    </tr>\n",
       "  </thead>\n",
       "  <tbody>\n",
       "    <tr>\n",
       "      <th>0</th>\n",
       "      <td>b00fa7t630</td>\n",
       "      <td>gq print access,print magazine</td>\n",
       "      <td>{'thumb': 'https://m.media-amazon.com/images/I...</td>\n",
       "      <td>magazine subscriptions</td>\n",
       "      <td>product description, dive into, gq, ’s culture...</td>\n",
       "      <td>{'Date First Available': 'June 2, 2020', 'Manu...</td>\n",
       "      <td>3.6</td>\n",
       "      <td>10</td>\n",
       "    </tr>\n",
       "    <tr>\n",
       "      <th>1</th>\n",
       "      <td>b00f8p62po</td>\n",
       "      <td>hi-fi +,print magazine</td>\n",
       "      <td>{'thumb': 'https://m.media-amazon.com/images/I...</td>\n",
       "      <td>magazine subscriptions</td>\n",
       "      <td>hi-fi+ is europe's premier english-language hi...</td>\n",
       "      <td>{'Date First Available': 'September 19, 2013',...</td>\n",
       "      <td>4.4</td>\n",
       "      <td>44</td>\n",
       "    </tr>\n",
       "    <tr>\n",
       "      <th>2</th>\n",
       "      <td>b003f1w9t6</td>\n",
       "      <td>paper crafts</td>\n",
       "      <td>{'thumb': 'https://m.media-amazon.com/images/I...</td>\n",
       "      <td>magazine subscriptions</td>\n",
       "      <td></td>\n",
       "      <td>{'Date First Available': 'May 12, 2021'}</td>\n",
       "      <td>3.0</td>\n",
       "      <td>3</td>\n",
       "    </tr>\n",
       "    <tr>\n",
       "      <th>3</th>\n",
       "      <td>b00007axx1</td>\n",
       "      <td>horse illustrated</td>\n",
       "      <td>{'thumb': 'https://m.media-amazon.com/images/I...</td>\n",
       "      <td>magazine subscriptions</td>\n",
       "      <td></td>\n",
       "      <td>{'Package Dimensions': '10.79 x 8.11 x 0.31 in...</td>\n",
       "      <td>4.5</td>\n",
       "      <td>284</td>\n",
       "    </tr>\n",
       "    <tr>\n",
       "      <th>4</th>\n",
       "      <td>b00007azs2</td>\n",
       "      <td>motorcyclist</td>\n",
       "      <td>{'thumb': 'https://m.media-amazon.com/images/I...</td>\n",
       "      <td>magazine subscriptions</td>\n",
       "      <td></td>\n",
       "      <td>{'Date First Available': 'April 30, 2015'}</td>\n",
       "      <td>3.0</td>\n",
       "      <td>10</td>\n",
       "    </tr>\n",
       "  </tbody>\n",
       "</table>\n",
       "</div>"
      ],
      "text/plain": [
       "      item_id                           title  \\\n",
       "0  b00fa7t630  gq print access,print magazine   \n",
       "1  b00f8p62po          hi-fi +,print magazine   \n",
       "2  b003f1w9t6                    paper crafts   \n",
       "3  b00007axx1               horse illustrated   \n",
       "4  b00007azs2                    motorcyclist   \n",
       "\n",
       "                                              images              categories  \\\n",
       "0  {'thumb': 'https://m.media-amazon.com/images/I...  magazine subscriptions   \n",
       "1  {'thumb': 'https://m.media-amazon.com/images/I...  magazine subscriptions   \n",
       "2  {'thumb': 'https://m.media-amazon.com/images/I...  magazine subscriptions   \n",
       "3  {'thumb': 'https://m.media-amazon.com/images/I...  magazine subscriptions   \n",
       "4  {'thumb': 'https://m.media-amazon.com/images/I...  magazine subscriptions   \n",
       "\n",
       "                                         description  \\\n",
       "0  product description, dive into, gq, ’s culture...   \n",
       "1  hi-fi+ is europe's premier english-language hi...   \n",
       "2                                                      \n",
       "3                                                      \n",
       "4                                                      \n",
       "\n",
       "                                             details  average_rating  \\\n",
       "0  {'Date First Available': 'June 2, 2020', 'Manu...             3.6   \n",
       "1  {'Date First Available': 'September 19, 2013',...             4.4   \n",
       "2           {'Date First Available': 'May 12, 2021'}             3.0   \n",
       "3  {'Package Dimensions': '10.79 x 8.11 x 0.31 in...             4.5   \n",
       "4         {'Date First Available': 'April 30, 2015'}             3.0   \n",
       "\n",
       "   rating_number  \n",
       "0             10  \n",
       "1             44  \n",
       "2              3  \n",
       "3            284  \n",
       "4             10  "
      ]
     },
     "execution_count": 55,
     "metadata": {},
     "output_type": "execute_result"
    }
   ],
   "source": [
    "items.head()"
   ]
  },
  {
   "cell_type": "code",
   "execution_count": 56,
   "id": "f7854a90-b499-4c5c-9ebd-78d54aea579e",
   "metadata": {},
   "outputs": [],
   "source": [
    "cdata=items[[\"categories\",\"details\",\"average_rating\",\"rating_number\"]]"
   ]
  },
  {
   "cell_type": "code",
   "execution_count": 57,
   "id": "9fb926b6-6e85-4044-a24b-5b3e332402d7",
   "metadata": {},
   "outputs": [
    {
     "data": {
      "text/html": [
       "<div>\n",
       "<style scoped>\n",
       "    .dataframe tbody tr th:only-of-type {\n",
       "        vertical-align: middle;\n",
       "    }\n",
       "\n",
       "    .dataframe tbody tr th {\n",
       "        vertical-align: top;\n",
       "    }\n",
       "\n",
       "    .dataframe thead th {\n",
       "        text-align: right;\n",
       "    }\n",
       "</style>\n",
       "<table border=\"1\" class=\"dataframe\">\n",
       "  <thead>\n",
       "    <tr style=\"text-align: right;\">\n",
       "      <th></th>\n",
       "      <th>categories</th>\n",
       "      <th>details</th>\n",
       "      <th>average_rating</th>\n",
       "      <th>rating_number</th>\n",
       "    </tr>\n",
       "  </thead>\n",
       "  <tbody>\n",
       "    <tr>\n",
       "      <th>0</th>\n",
       "      <td>magazine subscriptions</td>\n",
       "      <td>{'Date First Available': 'June 2, 2020', 'Manu...</td>\n",
       "      <td>3.6</td>\n",
       "      <td>10</td>\n",
       "    </tr>\n",
       "    <tr>\n",
       "      <th>1</th>\n",
       "      <td>magazine subscriptions</td>\n",
       "      <td>{'Date First Available': 'September 19, 2013',...</td>\n",
       "      <td>4.4</td>\n",
       "      <td>44</td>\n",
       "    </tr>\n",
       "    <tr>\n",
       "      <th>2</th>\n",
       "      <td>magazine subscriptions</td>\n",
       "      <td>{'Date First Available': 'May 12, 2021'}</td>\n",
       "      <td>3.0</td>\n",
       "      <td>3</td>\n",
       "    </tr>\n",
       "    <tr>\n",
       "      <th>3</th>\n",
       "      <td>magazine subscriptions</td>\n",
       "      <td>{'Package Dimensions': '10.79 x 8.11 x 0.31 in...</td>\n",
       "      <td>4.5</td>\n",
       "      <td>284</td>\n",
       "    </tr>\n",
       "    <tr>\n",
       "      <th>4</th>\n",
       "      <td>magazine subscriptions</td>\n",
       "      <td>{'Date First Available': 'April 30, 2015'}</td>\n",
       "      <td>3.0</td>\n",
       "      <td>10</td>\n",
       "    </tr>\n",
       "  </tbody>\n",
       "</table>\n",
       "</div>"
      ],
      "text/plain": [
       "               categories                                            details  \\\n",
       "0  magazine subscriptions  {'Date First Available': 'June 2, 2020', 'Manu...   \n",
       "1  magazine subscriptions  {'Date First Available': 'September 19, 2013',...   \n",
       "2  magazine subscriptions           {'Date First Available': 'May 12, 2021'}   \n",
       "3  magazine subscriptions  {'Package Dimensions': '10.79 x 8.11 x 0.31 in...   \n",
       "4  magazine subscriptions         {'Date First Available': 'April 30, 2015'}   \n",
       "\n",
       "   average_rating  rating_number  \n",
       "0             3.6             10  \n",
       "1             4.4             44  \n",
       "2             3.0              3  \n",
       "3             4.5            284  \n",
       "4             3.0             10  "
      ]
     },
     "execution_count": 57,
     "metadata": {},
     "output_type": "execute_result"
    }
   ],
   "source": [
    "cdata.head()"
   ]
  },
  {
   "cell_type": "code",
   "execution_count": null,
   "id": "8fbf0024-261d-4a5b-9008-3c4ec27a783c",
   "metadata": {},
   "outputs": [],
   "source": []
  },
  {
   "cell_type": "code",
   "execution_count": null,
   "id": "0b79f1d2-4e52-40a2-b30f-194d07d486a6",
   "metadata": {},
   "outputs": [],
   "source": []
  },
  {
   "cell_type": "code",
   "execution_count": null,
   "id": "b0d7bf84-8afa-4689-8af4-79b4a1b33e4e",
   "metadata": {},
   "outputs": [],
   "source": []
  },
  {
   "cell_type": "markdown",
   "id": "d5450a5a-9e51-45de-8d5c-b8eeccc983f5",
   "metadata": {},
   "source": [
    "## Modeling"
   ]
  },
  {
   "cell_type": "code",
   "execution_count": 59,
   "id": "f84adead-f095-45d9-b666-db8288d7edfb",
   "metadata": {},
   "outputs": [
    {
     "data": {
      "text/html": [
       "<div>\n",
       "<style scoped>\n",
       "    .dataframe tbody tr th:only-of-type {\n",
       "        vertical-align: middle;\n",
       "    }\n",
       "\n",
       "    .dataframe tbody tr th {\n",
       "        vertical-align: top;\n",
       "    }\n",
       "\n",
       "    .dataframe thead th {\n",
       "        text-align: right;\n",
       "    }\n",
       "</style>\n",
       "<table border=\"1\" class=\"dataframe\">\n",
       "  <thead>\n",
       "    <tr style=\"text-align: right;\">\n",
       "      <th></th>\n",
       "      <th>categories</th>\n",
       "      <th>details</th>\n",
       "      <th>average_rating</th>\n",
       "      <th>rating_number</th>\n",
       "    </tr>\n",
       "  </thead>\n",
       "  <tbody>\n",
       "    <tr>\n",
       "      <th>0</th>\n",
       "      <td>magazine subscriptions</td>\n",
       "      <td>{'Date First Available': 'June 2, 2020', 'Manu...</td>\n",
       "      <td>3.6</td>\n",
       "      <td>10</td>\n",
       "    </tr>\n",
       "    <tr>\n",
       "      <th>1</th>\n",
       "      <td>magazine subscriptions</td>\n",
       "      <td>{'Date First Available': 'September 19, 2013',...</td>\n",
       "      <td>4.4</td>\n",
       "      <td>44</td>\n",
       "    </tr>\n",
       "    <tr>\n",
       "      <th>2</th>\n",
       "      <td>magazine subscriptions</td>\n",
       "      <td>{'Date First Available': 'May 12, 2021'}</td>\n",
       "      <td>3.0</td>\n",
       "      <td>3</td>\n",
       "    </tr>\n",
       "    <tr>\n",
       "      <th>3</th>\n",
       "      <td>magazine subscriptions</td>\n",
       "      <td>{'Package Dimensions': '10.79 x 8.11 x 0.31 in...</td>\n",
       "      <td>4.5</td>\n",
       "      <td>284</td>\n",
       "    </tr>\n",
       "    <tr>\n",
       "      <th>4</th>\n",
       "      <td>magazine subscriptions</td>\n",
       "      <td>{'Date First Available': 'April 30, 2015'}</td>\n",
       "      <td>3.0</td>\n",
       "      <td>10</td>\n",
       "    </tr>\n",
       "  </tbody>\n",
       "</table>\n",
       "</div>"
      ],
      "text/plain": [
       "               categories                                            details  \\\n",
       "0  magazine subscriptions  {'Date First Available': 'June 2, 2020', 'Manu...   \n",
       "1  magazine subscriptions  {'Date First Available': 'September 19, 2013',...   \n",
       "2  magazine subscriptions           {'Date First Available': 'May 12, 2021'}   \n",
       "3  magazine subscriptions  {'Package Dimensions': '10.79 x 8.11 x 0.31 in...   \n",
       "4  magazine subscriptions         {'Date First Available': 'April 30, 2015'}   \n",
       "\n",
       "   average_rating  rating_number  \n",
       "0             3.6             10  \n",
       "1             4.4             44  \n",
       "2             3.0              3  \n",
       "3             4.5            284  \n",
       "4             3.0             10  "
      ]
     },
     "execution_count": 59,
     "metadata": {},
     "output_type": "execute_result"
    }
   ],
   "source": [
    "cdata.head()"
   ]
  },
  {
   "cell_type": "markdown",
   "id": "14925531-749a-44fd-a88d-f9fc5d165e29",
   "metadata": {},
   "source": [
    "#### Encodeing"
   ]
  },
  {
   "cell_type": "code",
   "execution_count": 61,
   "id": "f80d3334-c4f0-4434-afcc-5864c5faec5b",
   "metadata": {},
   "outputs": [
    {
     "data": {
      "text/plain": [
       "array(['magazine subscriptions', 'books'], dtype=object)"
      ]
     },
     "execution_count": 61,
     "metadata": {},
     "output_type": "execute_result"
    }
   ],
   "source": [
    "cdata.categories.unique()"
   ]
  },
  {
   "cell_type": "code",
   "execution_count": 62,
   "id": "748e7e2a-44d3-4f90-9b56-6844b900706f",
   "metadata": {},
   "outputs": [],
   "source": [
    " cdata.categories.replace({'magazine subscriptions':'1','books':'0'},inplace=True)"
   ]
  },
  {
   "cell_type": "code",
   "execution_count": 63,
   "id": "1b66a6e3-3168-4d30-a7c7-e912b53c62eb",
   "metadata": {},
   "outputs": [
    {
     "data": {
      "text/html": [
       "<div>\n",
       "<style scoped>\n",
       "    .dataframe tbody tr th:only-of-type {\n",
       "        vertical-align: middle;\n",
       "    }\n",
       "\n",
       "    .dataframe tbody tr th {\n",
       "        vertical-align: top;\n",
       "    }\n",
       "\n",
       "    .dataframe thead th {\n",
       "        text-align: right;\n",
       "    }\n",
       "</style>\n",
       "<table border=\"1\" class=\"dataframe\">\n",
       "  <thead>\n",
       "    <tr style=\"text-align: right;\">\n",
       "      <th></th>\n",
       "      <th>categories</th>\n",
       "      <th>details</th>\n",
       "      <th>average_rating</th>\n",
       "      <th>rating_number</th>\n",
       "    </tr>\n",
       "  </thead>\n",
       "  <tbody>\n",
       "    <tr>\n",
       "      <th>0</th>\n",
       "      <td>1</td>\n",
       "      <td>{'Date First Available': 'June 2, 2020', 'Manu...</td>\n",
       "      <td>3.6</td>\n",
       "      <td>10</td>\n",
       "    </tr>\n",
       "    <tr>\n",
       "      <th>1</th>\n",
       "      <td>1</td>\n",
       "      <td>{'Date First Available': 'September 19, 2013',...</td>\n",
       "      <td>4.4</td>\n",
       "      <td>44</td>\n",
       "    </tr>\n",
       "    <tr>\n",
       "      <th>2</th>\n",
       "      <td>1</td>\n",
       "      <td>{'Date First Available': 'May 12, 2021'}</td>\n",
       "      <td>3.0</td>\n",
       "      <td>3</td>\n",
       "    </tr>\n",
       "    <tr>\n",
       "      <th>3</th>\n",
       "      <td>1</td>\n",
       "      <td>{'Package Dimensions': '10.79 x 8.11 x 0.31 in...</td>\n",
       "      <td>4.5</td>\n",
       "      <td>284</td>\n",
       "    </tr>\n",
       "    <tr>\n",
       "      <th>4</th>\n",
       "      <td>1</td>\n",
       "      <td>{'Date First Available': 'April 30, 2015'}</td>\n",
       "      <td>3.0</td>\n",
       "      <td>10</td>\n",
       "    </tr>\n",
       "  </tbody>\n",
       "</table>\n",
       "</div>"
      ],
      "text/plain": [
       "  categories                                            details  \\\n",
       "0          1  {'Date First Available': 'June 2, 2020', 'Manu...   \n",
       "1          1  {'Date First Available': 'September 19, 2013',...   \n",
       "2          1           {'Date First Available': 'May 12, 2021'}   \n",
       "3          1  {'Package Dimensions': '10.79 x 8.11 x 0.31 in...   \n",
       "4          1         {'Date First Available': 'April 30, 2015'}   \n",
       "\n",
       "   average_rating  rating_number  \n",
       "0             3.6             10  \n",
       "1             4.4             44  \n",
       "2             3.0              3  \n",
       "3             4.5            284  \n",
       "4             3.0             10  "
      ]
     },
     "execution_count": 63,
     "metadata": {},
     "output_type": "execute_result"
    }
   ],
   "source": [
    "cdata.head()"
   ]
  },
  {
   "cell_type": "code",
   "execution_count": 64,
   "id": "215d0079-a144-4fdb-8ec6-b2a929458c68",
   "metadata": {},
   "outputs": [],
   "source": [
    "for indx in range(len(cdata)):\n",
    "    cdata['details'][indx] = items['details'][indx].get(\"Date First Available\")"
   ]
  },
  {
   "cell_type": "code",
   "execution_count": 65,
   "id": "8afc2f0b-880d-4eb6-97c7-09bff518cff0",
   "metadata": {},
   "outputs": [
    {
     "data": {
      "text/plain": [
       "815"
      ]
     },
     "execution_count": 65,
     "metadata": {},
     "output_type": "execute_result"
    }
   ],
   "source": [
    "len(cdata['details'].unique())"
   ]
  },
  {
   "cell_type": "code",
   "execution_count": 66,
   "id": "b6a2f267-fcab-4852-b1b3-a4ae00385a1e",
   "metadata": {},
   "outputs": [],
   "source": [
    "#round(cdata.groupby('details')['rating_number'].sum(),2).sort_values(ascending=False)"
   ]
  },
  {
   "cell_type": "code",
   "execution_count": 67,
   "id": "3087dbd7-1b46-4430-afaa-aba37bf5a827",
   "metadata": {},
   "outputs": [],
   "source": [
    "#order = round(cdata.groupby('details')['rating_number'].sum(),2).sort_values().index"
   ]
  },
  {
   "cell_type": "markdown",
   "id": "8f27875e-294a-4f4d-9e0b-b0012791aff8",
   "metadata": {},
   "source": [
    "#### label Encoding"
   ]
  },
  {
   "cell_type": "code",
   "execution_count": 69,
   "id": "ac7aff9d-2b13-4cb6-8deb-05f466dddac2",
   "metadata": {},
   "outputs": [],
   "source": [
    "from sklearn.preprocessing import LabelEncoder\n",
    "label_encoder = LabelEncoder() \n",
    "cdata[\"details\"]= label_encoder.fit_transform(cdata.details)"
   ]
  },
  {
   "cell_type": "code",
   "execution_count": 70,
   "id": "5f3af67e-f4fa-48cc-b29a-c76935d6c604",
   "metadata": {},
   "outputs": [
    {
     "data": {
      "text/html": [
       "<div>\n",
       "<style scoped>\n",
       "    .dataframe tbody tr th:only-of-type {\n",
       "        vertical-align: middle;\n",
       "    }\n",
       "\n",
       "    .dataframe tbody tr th {\n",
       "        vertical-align: top;\n",
       "    }\n",
       "\n",
       "    .dataframe thead th {\n",
       "        text-align: right;\n",
       "    }\n",
       "</style>\n",
       "<table border=\"1\" class=\"dataframe\">\n",
       "  <thead>\n",
       "    <tr style=\"text-align: right;\">\n",
       "      <th></th>\n",
       "      <th>categories</th>\n",
       "      <th>details</th>\n",
       "      <th>average_rating</th>\n",
       "      <th>rating_number</th>\n",
       "    </tr>\n",
       "  </thead>\n",
       "  <tbody>\n",
       "    <tr>\n",
       "      <th>0</th>\n",
       "      <td>1</td>\n",
       "      <td>418</td>\n",
       "      <td>3.6</td>\n",
       "      <td>10</td>\n",
       "    </tr>\n",
       "    <tr>\n",
       "      <th>1</th>\n",
       "      <td>1</td>\n",
       "      <td>764</td>\n",
       "      <td>4.4</td>\n",
       "      <td>44</td>\n",
       "    </tr>\n",
       "    <tr>\n",
       "      <th>2</th>\n",
       "      <td>1</td>\n",
       "      <td>548</td>\n",
       "      <td>3.0</td>\n",
       "      <td>3</td>\n",
       "    </tr>\n",
       "    <tr>\n",
       "      <th>3</th>\n",
       "      <td>1</td>\n",
       "      <td>746</td>\n",
       "      <td>4.5</td>\n",
       "      <td>284</td>\n",
       "    </tr>\n",
       "    <tr>\n",
       "      <th>4</th>\n",
       "      <td>1</td>\n",
       "      <td>60</td>\n",
       "      <td>3.0</td>\n",
       "      <td>10</td>\n",
       "    </tr>\n",
       "  </tbody>\n",
       "</table>\n",
       "</div>"
      ],
      "text/plain": [
       "  categories  details  average_rating  rating_number\n",
       "0          1      418             3.6             10\n",
       "1          1      764             4.4             44\n",
       "2          1      548             3.0              3\n",
       "3          1      746             4.5            284\n",
       "4          1       60             3.0             10"
      ]
     },
     "execution_count": 70,
     "metadata": {},
     "output_type": "execute_result"
    }
   ],
   "source": [
    "cdata.head()"
   ]
  },
  {
   "cell_type": "markdown",
   "id": "b5e9efe1-4432-49d7-a1e3-7032c13b32f7",
   "metadata": {},
   "source": [
    "####  Model Training"
   ]
  },
  {
   "cell_type": "code",
   "execution_count": 72,
   "id": "ede4585e-3d1a-4658-b611-b37468bee64f",
   "metadata": {},
   "outputs": [],
   "source": [
    "from sklearn.neighbors import NearestNeighbors"
   ]
  },
  {
   "cell_type": "code",
   "execution_count": 73,
   "id": "da95d981-aefa-4bbb-88a3-d224e1946758",
   "metadata": {},
   "outputs": [],
   "source": [
    "cosinemodel = NearestNeighbors(n_neighbors=6, metric='cosine')"
   ]
  },
  {
   "cell_type": "code",
   "execution_count": 74,
   "id": "d3d2c632-da50-48ec-ab17-1836c8e333c6",
   "metadata": {},
   "outputs": [
    {
     "data": {
      "text/html": [
       "<style>#sk-container-id-1 {\n",
       "  /* Definition of color scheme common for light and dark mode */\n",
       "  --sklearn-color-text: black;\n",
       "  --sklearn-color-line: gray;\n",
       "  /* Definition of color scheme for unfitted estimators */\n",
       "  --sklearn-color-unfitted-level-0: #fff5e6;\n",
       "  --sklearn-color-unfitted-level-1: #f6e4d2;\n",
       "  --sklearn-color-unfitted-level-2: #ffe0b3;\n",
       "  --sklearn-color-unfitted-level-3: chocolate;\n",
       "  /* Definition of color scheme for fitted estimators */\n",
       "  --sklearn-color-fitted-level-0: #f0f8ff;\n",
       "  --sklearn-color-fitted-level-1: #d4ebff;\n",
       "  --sklearn-color-fitted-level-2: #b3dbfd;\n",
       "  --sklearn-color-fitted-level-3: cornflowerblue;\n",
       "\n",
       "  /* Specific color for light theme */\n",
       "  --sklearn-color-text-on-default-background: var(--sg-text-color, var(--theme-code-foreground, var(--jp-content-font-color1, black)));\n",
       "  --sklearn-color-background: var(--sg-background-color, var(--theme-background, var(--jp-layout-color0, white)));\n",
       "  --sklearn-color-border-box: var(--sg-text-color, var(--theme-code-foreground, var(--jp-content-font-color1, black)));\n",
       "  --sklearn-color-icon: #696969;\n",
       "\n",
       "  @media (prefers-color-scheme: dark) {\n",
       "    /* Redefinition of color scheme for dark theme */\n",
       "    --sklearn-color-text-on-default-background: var(--sg-text-color, var(--theme-code-foreground, var(--jp-content-font-color1, white)));\n",
       "    --sklearn-color-background: var(--sg-background-color, var(--theme-background, var(--jp-layout-color0, #111)));\n",
       "    --sklearn-color-border-box: var(--sg-text-color, var(--theme-code-foreground, var(--jp-content-font-color1, white)));\n",
       "    --sklearn-color-icon: #878787;\n",
       "  }\n",
       "}\n",
       "\n",
       "#sk-container-id-1 {\n",
       "  color: var(--sklearn-color-text);\n",
       "}\n",
       "\n",
       "#sk-container-id-1 pre {\n",
       "  padding: 0;\n",
       "}\n",
       "\n",
       "#sk-container-id-1 input.sk-hidden--visually {\n",
       "  border: 0;\n",
       "  clip: rect(1px 1px 1px 1px);\n",
       "  clip: rect(1px, 1px, 1px, 1px);\n",
       "  height: 1px;\n",
       "  margin: -1px;\n",
       "  overflow: hidden;\n",
       "  padding: 0;\n",
       "  position: absolute;\n",
       "  width: 1px;\n",
       "}\n",
       "\n",
       "#sk-container-id-1 div.sk-dashed-wrapped {\n",
       "  border: 1px dashed var(--sklearn-color-line);\n",
       "  margin: 0 0.4em 0.5em 0.4em;\n",
       "  box-sizing: border-box;\n",
       "  padding-bottom: 0.4em;\n",
       "  background-color: var(--sklearn-color-background);\n",
       "}\n",
       "\n",
       "#sk-container-id-1 div.sk-container {\n",
       "  /* jupyter's `normalize.less` sets `[hidden] { display: none; }`\n",
       "     but bootstrap.min.css set `[hidden] { display: none !important; }`\n",
       "     so we also need the `!important` here to be able to override the\n",
       "     default hidden behavior on the sphinx rendered scikit-learn.org.\n",
       "     See: https://github.com/scikit-learn/scikit-learn/issues/21755 */\n",
       "  display: inline-block !important;\n",
       "  position: relative;\n",
       "}\n",
       "\n",
       "#sk-container-id-1 div.sk-text-repr-fallback {\n",
       "  display: none;\n",
       "}\n",
       "\n",
       "div.sk-parallel-item,\n",
       "div.sk-serial,\n",
       "div.sk-item {\n",
       "  /* draw centered vertical line to link estimators */\n",
       "  background-image: linear-gradient(var(--sklearn-color-text-on-default-background), var(--sklearn-color-text-on-default-background));\n",
       "  background-size: 2px 100%;\n",
       "  background-repeat: no-repeat;\n",
       "  background-position: center center;\n",
       "}\n",
       "\n",
       "/* Parallel-specific style estimator block */\n",
       "\n",
       "#sk-container-id-1 div.sk-parallel-item::after {\n",
       "  content: \"\";\n",
       "  width: 100%;\n",
       "  border-bottom: 2px solid var(--sklearn-color-text-on-default-background);\n",
       "  flex-grow: 1;\n",
       "}\n",
       "\n",
       "#sk-container-id-1 div.sk-parallel {\n",
       "  display: flex;\n",
       "  align-items: stretch;\n",
       "  justify-content: center;\n",
       "  background-color: var(--sklearn-color-background);\n",
       "  position: relative;\n",
       "}\n",
       "\n",
       "#sk-container-id-1 div.sk-parallel-item {\n",
       "  display: flex;\n",
       "  flex-direction: column;\n",
       "}\n",
       "\n",
       "#sk-container-id-1 div.sk-parallel-item:first-child::after {\n",
       "  align-self: flex-end;\n",
       "  width: 50%;\n",
       "}\n",
       "\n",
       "#sk-container-id-1 div.sk-parallel-item:last-child::after {\n",
       "  align-self: flex-start;\n",
       "  width: 50%;\n",
       "}\n",
       "\n",
       "#sk-container-id-1 div.sk-parallel-item:only-child::after {\n",
       "  width: 0;\n",
       "}\n",
       "\n",
       "/* Serial-specific style estimator block */\n",
       "\n",
       "#sk-container-id-1 div.sk-serial {\n",
       "  display: flex;\n",
       "  flex-direction: column;\n",
       "  align-items: center;\n",
       "  background-color: var(--sklearn-color-background);\n",
       "  padding-right: 1em;\n",
       "  padding-left: 1em;\n",
       "}\n",
       "\n",
       "\n",
       "/* Toggleable style: style used for estimator/Pipeline/ColumnTransformer box that is\n",
       "clickable and can be expanded/collapsed.\n",
       "- Pipeline and ColumnTransformer use this feature and define the default style\n",
       "- Estimators will overwrite some part of the style using the `sk-estimator` class\n",
       "*/\n",
       "\n",
       "/* Pipeline and ColumnTransformer style (default) */\n",
       "\n",
       "#sk-container-id-1 div.sk-toggleable {\n",
       "  /* Default theme specific background. It is overwritten whether we have a\n",
       "  specific estimator or a Pipeline/ColumnTransformer */\n",
       "  background-color: var(--sklearn-color-background);\n",
       "}\n",
       "\n",
       "/* Toggleable label */\n",
       "#sk-container-id-1 label.sk-toggleable__label {\n",
       "  cursor: pointer;\n",
       "  display: block;\n",
       "  width: 100%;\n",
       "  margin-bottom: 0;\n",
       "  padding: 0.5em;\n",
       "  box-sizing: border-box;\n",
       "  text-align: center;\n",
       "}\n",
       "\n",
       "#sk-container-id-1 label.sk-toggleable__label-arrow:before {\n",
       "  /* Arrow on the left of the label */\n",
       "  content: \"▸\";\n",
       "  float: left;\n",
       "  margin-right: 0.25em;\n",
       "  color: var(--sklearn-color-icon);\n",
       "}\n",
       "\n",
       "#sk-container-id-1 label.sk-toggleable__label-arrow:hover:before {\n",
       "  color: var(--sklearn-color-text);\n",
       "}\n",
       "\n",
       "/* Toggleable content - dropdown */\n",
       "\n",
       "#sk-container-id-1 div.sk-toggleable__content {\n",
       "  max-height: 0;\n",
       "  max-width: 0;\n",
       "  overflow: hidden;\n",
       "  text-align: left;\n",
       "  /* unfitted */\n",
       "  background-color: var(--sklearn-color-unfitted-level-0);\n",
       "}\n",
       "\n",
       "#sk-container-id-1 div.sk-toggleable__content.fitted {\n",
       "  /* fitted */\n",
       "  background-color: var(--sklearn-color-fitted-level-0);\n",
       "}\n",
       "\n",
       "#sk-container-id-1 div.sk-toggleable__content pre {\n",
       "  margin: 0.2em;\n",
       "  border-radius: 0.25em;\n",
       "  color: var(--sklearn-color-text);\n",
       "  /* unfitted */\n",
       "  background-color: var(--sklearn-color-unfitted-level-0);\n",
       "}\n",
       "\n",
       "#sk-container-id-1 div.sk-toggleable__content.fitted pre {\n",
       "  /* unfitted */\n",
       "  background-color: var(--sklearn-color-fitted-level-0);\n",
       "}\n",
       "\n",
       "#sk-container-id-1 input.sk-toggleable__control:checked~div.sk-toggleable__content {\n",
       "  /* Expand drop-down */\n",
       "  max-height: 200px;\n",
       "  max-width: 100%;\n",
       "  overflow: auto;\n",
       "}\n",
       "\n",
       "#sk-container-id-1 input.sk-toggleable__control:checked~label.sk-toggleable__label-arrow:before {\n",
       "  content: \"▾\";\n",
       "}\n",
       "\n",
       "/* Pipeline/ColumnTransformer-specific style */\n",
       "\n",
       "#sk-container-id-1 div.sk-label input.sk-toggleable__control:checked~label.sk-toggleable__label {\n",
       "  color: var(--sklearn-color-text);\n",
       "  background-color: var(--sklearn-color-unfitted-level-2);\n",
       "}\n",
       "\n",
       "#sk-container-id-1 div.sk-label.fitted input.sk-toggleable__control:checked~label.sk-toggleable__label {\n",
       "  background-color: var(--sklearn-color-fitted-level-2);\n",
       "}\n",
       "\n",
       "/* Estimator-specific style */\n",
       "\n",
       "/* Colorize estimator box */\n",
       "#sk-container-id-1 div.sk-estimator input.sk-toggleable__control:checked~label.sk-toggleable__label {\n",
       "  /* unfitted */\n",
       "  background-color: var(--sklearn-color-unfitted-level-2);\n",
       "}\n",
       "\n",
       "#sk-container-id-1 div.sk-estimator.fitted input.sk-toggleable__control:checked~label.sk-toggleable__label {\n",
       "  /* fitted */\n",
       "  background-color: var(--sklearn-color-fitted-level-2);\n",
       "}\n",
       "\n",
       "#sk-container-id-1 div.sk-label label.sk-toggleable__label,\n",
       "#sk-container-id-1 div.sk-label label {\n",
       "  /* The background is the default theme color */\n",
       "  color: var(--sklearn-color-text-on-default-background);\n",
       "}\n",
       "\n",
       "/* On hover, darken the color of the background */\n",
       "#sk-container-id-1 div.sk-label:hover label.sk-toggleable__label {\n",
       "  color: var(--sklearn-color-text);\n",
       "  background-color: var(--sklearn-color-unfitted-level-2);\n",
       "}\n",
       "\n",
       "/* Label box, darken color on hover, fitted */\n",
       "#sk-container-id-1 div.sk-label.fitted:hover label.sk-toggleable__label.fitted {\n",
       "  color: var(--sklearn-color-text);\n",
       "  background-color: var(--sklearn-color-fitted-level-2);\n",
       "}\n",
       "\n",
       "/* Estimator label */\n",
       "\n",
       "#sk-container-id-1 div.sk-label label {\n",
       "  font-family: monospace;\n",
       "  font-weight: bold;\n",
       "  display: inline-block;\n",
       "  line-height: 1.2em;\n",
       "}\n",
       "\n",
       "#sk-container-id-1 div.sk-label-container {\n",
       "  text-align: center;\n",
       "}\n",
       "\n",
       "/* Estimator-specific */\n",
       "#sk-container-id-1 div.sk-estimator {\n",
       "  font-family: monospace;\n",
       "  border: 1px dotted var(--sklearn-color-border-box);\n",
       "  border-radius: 0.25em;\n",
       "  box-sizing: border-box;\n",
       "  margin-bottom: 0.5em;\n",
       "  /* unfitted */\n",
       "  background-color: var(--sklearn-color-unfitted-level-0);\n",
       "}\n",
       "\n",
       "#sk-container-id-1 div.sk-estimator.fitted {\n",
       "  /* fitted */\n",
       "  background-color: var(--sklearn-color-fitted-level-0);\n",
       "}\n",
       "\n",
       "/* on hover */\n",
       "#sk-container-id-1 div.sk-estimator:hover {\n",
       "  /* unfitted */\n",
       "  background-color: var(--sklearn-color-unfitted-level-2);\n",
       "}\n",
       "\n",
       "#sk-container-id-1 div.sk-estimator.fitted:hover {\n",
       "  /* fitted */\n",
       "  background-color: var(--sklearn-color-fitted-level-2);\n",
       "}\n",
       "\n",
       "/* Specification for estimator info (e.g. \"i\" and \"?\") */\n",
       "\n",
       "/* Common style for \"i\" and \"?\" */\n",
       "\n",
       ".sk-estimator-doc-link,\n",
       "a:link.sk-estimator-doc-link,\n",
       "a:visited.sk-estimator-doc-link {\n",
       "  float: right;\n",
       "  font-size: smaller;\n",
       "  line-height: 1em;\n",
       "  font-family: monospace;\n",
       "  background-color: var(--sklearn-color-background);\n",
       "  border-radius: 1em;\n",
       "  height: 1em;\n",
       "  width: 1em;\n",
       "  text-decoration: none !important;\n",
       "  margin-left: 1ex;\n",
       "  /* unfitted */\n",
       "  border: var(--sklearn-color-unfitted-level-1) 1pt solid;\n",
       "  color: var(--sklearn-color-unfitted-level-1);\n",
       "}\n",
       "\n",
       ".sk-estimator-doc-link.fitted,\n",
       "a:link.sk-estimator-doc-link.fitted,\n",
       "a:visited.sk-estimator-doc-link.fitted {\n",
       "  /* fitted */\n",
       "  border: var(--sklearn-color-fitted-level-1) 1pt solid;\n",
       "  color: var(--sklearn-color-fitted-level-1);\n",
       "}\n",
       "\n",
       "/* On hover */\n",
       "div.sk-estimator:hover .sk-estimator-doc-link:hover,\n",
       ".sk-estimator-doc-link:hover,\n",
       "div.sk-label-container:hover .sk-estimator-doc-link:hover,\n",
       ".sk-estimator-doc-link:hover {\n",
       "  /* unfitted */\n",
       "  background-color: var(--sklearn-color-unfitted-level-3);\n",
       "  color: var(--sklearn-color-background);\n",
       "  text-decoration: none;\n",
       "}\n",
       "\n",
       "div.sk-estimator.fitted:hover .sk-estimator-doc-link.fitted:hover,\n",
       ".sk-estimator-doc-link.fitted:hover,\n",
       "div.sk-label-container:hover .sk-estimator-doc-link.fitted:hover,\n",
       ".sk-estimator-doc-link.fitted:hover {\n",
       "  /* fitted */\n",
       "  background-color: var(--sklearn-color-fitted-level-3);\n",
       "  color: var(--sklearn-color-background);\n",
       "  text-decoration: none;\n",
       "}\n",
       "\n",
       "/* Span, style for the box shown on hovering the info icon */\n",
       ".sk-estimator-doc-link span {\n",
       "  display: none;\n",
       "  z-index: 9999;\n",
       "  position: relative;\n",
       "  font-weight: normal;\n",
       "  right: .2ex;\n",
       "  padding: .5ex;\n",
       "  margin: .5ex;\n",
       "  width: min-content;\n",
       "  min-width: 20ex;\n",
       "  max-width: 50ex;\n",
       "  color: var(--sklearn-color-text);\n",
       "  box-shadow: 2pt 2pt 4pt #999;\n",
       "  /* unfitted */\n",
       "  background: var(--sklearn-color-unfitted-level-0);\n",
       "  border: .5pt solid var(--sklearn-color-unfitted-level-3);\n",
       "}\n",
       "\n",
       ".sk-estimator-doc-link.fitted span {\n",
       "  /* fitted */\n",
       "  background: var(--sklearn-color-fitted-level-0);\n",
       "  border: var(--sklearn-color-fitted-level-3);\n",
       "}\n",
       "\n",
       ".sk-estimator-doc-link:hover span {\n",
       "  display: block;\n",
       "}\n",
       "\n",
       "/* \"?\"-specific style due to the `<a>` HTML tag */\n",
       "\n",
       "#sk-container-id-1 a.estimator_doc_link {\n",
       "  float: right;\n",
       "  font-size: 1rem;\n",
       "  line-height: 1em;\n",
       "  font-family: monospace;\n",
       "  background-color: var(--sklearn-color-background);\n",
       "  border-radius: 1rem;\n",
       "  height: 1rem;\n",
       "  width: 1rem;\n",
       "  text-decoration: none;\n",
       "  /* unfitted */\n",
       "  color: var(--sklearn-color-unfitted-level-1);\n",
       "  border: var(--sklearn-color-unfitted-level-1) 1pt solid;\n",
       "}\n",
       "\n",
       "#sk-container-id-1 a.estimator_doc_link.fitted {\n",
       "  /* fitted */\n",
       "  border: var(--sklearn-color-fitted-level-1) 1pt solid;\n",
       "  color: var(--sklearn-color-fitted-level-1);\n",
       "}\n",
       "\n",
       "/* On hover */\n",
       "#sk-container-id-1 a.estimator_doc_link:hover {\n",
       "  /* unfitted */\n",
       "  background-color: var(--sklearn-color-unfitted-level-3);\n",
       "  color: var(--sklearn-color-background);\n",
       "  text-decoration: none;\n",
       "}\n",
       "\n",
       "#sk-container-id-1 a.estimator_doc_link.fitted:hover {\n",
       "  /* fitted */\n",
       "  background-color: var(--sklearn-color-fitted-level-3);\n",
       "}\n",
       "</style><div id=\"sk-container-id-1\" class=\"sk-top-container\"><div class=\"sk-text-repr-fallback\"><pre>NearestNeighbors(metric=&#x27;cosine&#x27;, n_neighbors=6)</pre><b>In a Jupyter environment, please rerun this cell to show the HTML representation or trust the notebook. <br />On GitHub, the HTML representation is unable to render, please try loading this page with nbviewer.org.</b></div><div class=\"sk-container\" hidden><div class=\"sk-item\"><div class=\"sk-estimator fitted sk-toggleable\"><input class=\"sk-toggleable__control sk-hidden--visually\" id=\"sk-estimator-id-1\" type=\"checkbox\" checked><label for=\"sk-estimator-id-1\" class=\"sk-toggleable__label fitted sk-toggleable__label-arrow fitted\">&nbsp;&nbsp;NearestNeighbors<a class=\"sk-estimator-doc-link fitted\" rel=\"noreferrer\" target=\"_blank\" href=\"https://scikit-learn.org/1.4/modules/generated/sklearn.neighbors.NearestNeighbors.html\">?<span>Documentation for NearestNeighbors</span></a><span class=\"sk-estimator-doc-link fitted\">i<span>Fitted</span></span></label><div class=\"sk-toggleable__content fitted\"><pre>NearestNeighbors(metric=&#x27;cosine&#x27;, n_neighbors=6)</pre></div> </div></div></div></div>"
      ],
      "text/plain": [
       "NearestNeighbors(metric='cosine', n_neighbors=6)"
      ]
     },
     "execution_count": 74,
     "metadata": {},
     "output_type": "execute_result"
    }
   ],
   "source": [
    "cosinemodel.fit(cdata)"
   ]
  },
  {
   "cell_type": "code",
   "execution_count": 75,
   "id": "2c7736de-357c-4236-bf67-dcfe8bb01771",
   "metadata": {},
   "outputs": [],
   "source": [
    "# Function for Prediciton\n",
    "\n",
    "def recommend_items(itemtitle, n=5): # n is number of recommendations\n",
    "    print(\"***********************************************\")\n",
    "    print(green(\"Content Based Recommendations:\",['bold']))\n",
    "    print(\"***********************************************\")\n",
    "    print()\n",
    "    \n",
    "    # Finding the item index\n",
    "    idx = items[items['title'].str.contains(itemtitle, case=False, na=False)].index\n",
    "    if len(idx) == 0:\n",
    "        return \"Item not found!\"\n",
    "    \n",
    "    idx = idx[0]  # Take first match if multiple exist\n",
    "    \n",
    "    \n",
    "    print(red(\"Selected Item:\",['bold']), items['title'][idx])\n",
    "    print()\n",
    "    display(Image(url=items['images'][idx][\"large\"], width=300, height=300))\n",
    "    print()\n",
    "    print(magenta(\"categories:\",['bold']), items['categories'][idx])\n",
    "    print()\n",
    "    print(magenta(\"description:\",['bold']), items['description'][idx])\n",
    "    print()\n",
    "    print(blue(\"details:\",['bold']),items['details'][idx])\n",
    "    print()\n",
    "    print(\"==========================================================\")\n",
    "    \n",
    "    # Model input\n",
    "    data = cdata.iloc[idx]\n",
    "    \n",
    "    # Find N nearest neighbors\n",
    "    distances, indices = cosinemodel.kneighbors([data], n_neighbors=n+1)\n",
    "    \n",
    "    # distances are taken from cosine metric, these can be nearer to 0 for neighbors\n",
    "    # indices are the indexes of items nearer\n",
    "\n",
    "    # Get recommended item titles (excluding the input item)\n",
    "    item_indices = indices.flatten()[1:]  # Skip first entry (input item)\n",
    "    \n",
    "    print(red(\"Recommended Top5 Items:\",['bold']))\n",
    "    print()\n",
    "    for indx in item_indices[1:]:\n",
    "        print(red(\"title:\",['bold']), items['title'][indx])\n",
    "        print(\"------------------------------------------------------\")\n",
    "        display(Image(url=items['images'][indx][\"large\"], width=300, height=300))\n",
    "        print()\n",
    "        print(magenta(\"categories:\",['bold']), items['categories'][indx])\n",
    "        print()\n",
    "        print(magenta(\"description:\",['bold']), items['description'][indx])\n",
    "        print()\n",
    "        print(blue(\"details:\",['bold']), items['details'][indx])\n",
    "        print()"
   ]
  },
  {
   "cell_type": "code",
   "execution_count": 76,
   "id": "3f21feaf-2328-4e5a-9d73-eac4a1ff8e6e",
   "metadata": {},
   "outputs": [
    {
     "data": {
      "text/plain": [
       "0    gq print access,print magazine\n",
       "1            hi-fi +,print magazine\n",
       "2                      paper crafts\n",
       "3                 horse illustrated\n",
       "4                      motorcyclist\n",
       "Name: title, dtype: object"
      ]
     },
     "execution_count": 76,
     "metadata": {},
     "output_type": "execute_result"
    }
   ],
   "source": [
    "items.title[0:5]"
   ]
  },
  {
   "cell_type": "code",
   "execution_count": 77,
   "id": "dbb70870-5ef7-4fee-b428-d91780990fef",
   "metadata": {
    "scrolled": true
   },
   "outputs": [
    {
     "name": "stdout",
     "output_type": "stream",
     "text": [
      "***********************************************\n",
      "\u001b[1;32mContent Based Recommendations:\u001b[0m\n",
      "***********************************************\n",
      "\n",
      "\u001b[1;31mSelected Item:\u001b[0m motorcyclist\n",
      "\n"
     ]
    },
    {
     "data": {
      "text/html": [
       "<img src=\"https://m.media-amazon.com/images/I/518AEn90oNL._AC_.jpg\" width=\"300\" height=\"300\"/>"
      ],
      "text/plain": [
       "<IPython.core.display.Image object>"
      ]
     },
     "metadata": {},
     "output_type": "display_data"
    },
    {
     "name": "stdout",
     "output_type": "stream",
     "text": [
      "\n",
      "\u001b[1;35mcategories:\u001b[0m magazine subscriptions\n",
      "\n",
      "\u001b[1;35mdescription:\u001b[0m \n",
      "\n",
      "\u001b[1;34mdetails:\u001b[0m {'Date First Available': 'April 30, 2015'}\n",
      "\n",
      "==========================================================\n",
      "\u001b[1;31mRecommended Top5 Items:\u001b[0m\n",
      "\n",
      "\u001b[1;31mtitle:\u001b[0m photo techniques\n",
      "------------------------------------------------------\n"
     ]
    },
    {
     "data": {
      "text/html": [
       "<img src=\"https://m.media-amazon.com/images/I/51BwEM1zn1L._AC_.jpg\" width=\"300\" height=\"300\"/>"
      ],
      "text/plain": [
       "<IPython.core.display.Image object>"
      ]
     },
     "metadata": {},
     "output_type": "display_data"
    },
    {
     "name": "stdout",
     "output_type": "stream",
     "text": [
      "\n",
      "\u001b[1;35mcategories:\u001b[0m magazine subscriptions\n",
      "\n",
      "\u001b[1;35mdescription:\u001b[0m \n",
      "\n",
      "\u001b[1;34mdetails:\u001b[0m {'Date First Available': 'April 30, 2015'}\n",
      "\n",
      "\u001b[1;31mtitle:\u001b[0m game & fish west\n",
      "------------------------------------------------------\n"
     ]
    },
    {
     "data": {
      "text/html": [
       "<img src=\"https://m.media-amazon.com/images/I/617XuVJchKL._AC_.jpg\" width=\"300\" height=\"300\"/>"
      ],
      "text/plain": [
       "<IPython.core.display.Image object>"
      ]
     },
     "metadata": {},
     "output_type": "display_data"
    },
    {
     "name": "stdout",
     "output_type": "stream",
     "text": [
      "\n",
      "\u001b[1;35mcategories:\u001b[0m magazine subscriptions\n",
      "\n",
      "\u001b[1;35mdescription:\u001b[0m \n",
      "\n",
      "\u001b[1;34mdetails:\u001b[0m {'Date First Available': 'August 30, 2013'}\n",
      "\n",
      "\u001b[1;31mtitle:\u001b[0m real simple [prime member exclusive],print magazine\n",
      "------------------------------------------------------\n"
     ]
    },
    {
     "data": {
      "text/html": [
       "<img src=\"https://m.media-amazon.com/images/I/51M9-4++NHL._AC_.jpg\" width=\"300\" height=\"300\"/>"
      ],
      "text/plain": [
       "<IPython.core.display.Image object>"
      ]
     },
     "metadata": {},
     "output_type": "display_data"
    },
    {
     "name": "stdout",
     "output_type": "stream",
     "text": [
      "\n",
      "\u001b[1;35mcategories:\u001b[0m magazine subscriptions\n",
      "\n",
      "\u001b[1;35mdescription:\u001b[0m real simple is for smart, busy women who welcome creative solutions to their everyday challenges. they trust real simple for help entertaining, organizing, shopping, working, connecting with friends, or making time for themselves.\n",
      "\n",
      "\u001b[1;34mdetails:\u001b[0m {'Date First Available': 'August 20, 2015', 'Manufacturer': 'Time Direct Ventures'}\n",
      "\n",
      "\u001b[1;31mtitle:\u001b[0m world of firepower,print magazine\n",
      "------------------------------------------------------\n"
     ]
    },
    {
     "data": {
      "text/html": [
       "<img src=\"https://m.media-amazon.com/images/I/6158zgn+zML._AC_.jpg\" width=\"300\" height=\"300\"/>"
      ],
      "text/plain": [
       "<IPython.core.display.Image object>"
      ]
     },
     "metadata": {},
     "output_type": "display_data"
    },
    {
     "name": "stdout",
     "output_type": "stream",
     "text": [
      "\n",
      "\u001b[1;35mcategories:\u001b[0m magazine subscriptions\n",
      "\n",
      "\u001b[1;35mdescription:\u001b[0m \n",
      "\n",
      "\u001b[1;34mdetails:\u001b[0m {'Date First Available': 'August 21, 2013', 'Manufacturer': 'Engaged Media'}\n",
      "\n"
     ]
    }
   ],
   "source": [
    "recommend_items('motorcyclist')"
   ]
  },
  {
   "cell_type": "markdown",
   "id": "03b50d23-14cf-4f13-aa32-676ede067ac2",
   "metadata": {},
   "source": [
    "## Collaborative recommender System"
   ]
  },
  {
   "cell_type": "markdown",
   "id": "249b2bb0-6568-4b05-a291-f1ff4dfffb37",
   "metadata": {},
   "source": [
    "#### For User"
   ]
  },
  {
   "cell_type": "code",
   "execution_count": 80,
   "id": "c164f601-42c4-48b1-a916-2c7cfec35822",
   "metadata": {},
   "outputs": [
    {
     "data": {
      "text/html": [
       "<div>\n",
       "<style scoped>\n",
       "    .dataframe tbody tr th:only-of-type {\n",
       "        vertical-align: middle;\n",
       "    }\n",
       "\n",
       "    .dataframe tbody tr th {\n",
       "        vertical-align: top;\n",
       "    }\n",
       "\n",
       "    .dataframe thead th {\n",
       "        text-align: right;\n",
       "    }\n",
       "</style>\n",
       "<table border=\"1\" class=\"dataframe\">\n",
       "  <thead>\n",
       "    <tr style=\"text-align: right;\">\n",
       "      <th></th>\n",
       "      <th>user_id</th>\n",
       "      <th>item_id</th>\n",
       "      <th>rating</th>\n",
       "    </tr>\n",
       "  </thead>\n",
       "  <tbody>\n",
       "    <tr>\n",
       "      <th>0</th>\n",
       "      <td>ae7y5rlyikhozb5nkkoekyg2spsq</td>\n",
       "      <td>b00hlssqkk</td>\n",
       "      <td>5</td>\n",
       "    </tr>\n",
       "    <tr>\n",
       "      <th>1</th>\n",
       "      <td>ahortssmi6zzfufwmpt4ufr2isuq</td>\n",
       "      <td>b002pxw04y</td>\n",
       "      <td>4</td>\n",
       "    </tr>\n",
       "    <tr>\n",
       "      <th>2</th>\n",
       "      <td>afw2pdt3amt4x3pyqg7fjzh5fxfa</td>\n",
       "      <td>b00hcr5090</td>\n",
       "      <td>5</td>\n",
       "    </tr>\n",
       "    <tr>\n",
       "      <th>3</th>\n",
       "      <td>afw2pdt3amt4x3pyqg7fjzh5fxfa</td>\n",
       "      <td>b0000arxxs</td>\n",
       "      <td>5</td>\n",
       "    </tr>\n",
       "    <tr>\n",
       "      <th>4</th>\n",
       "      <td>afub7chtxrpd447qvqchbzvn2ipq</td>\n",
       "      <td>b0025zoveo</td>\n",
       "      <td>1</td>\n",
       "    </tr>\n",
       "  </tbody>\n",
       "</table>\n",
       "</div>"
      ],
      "text/plain": [
       "                        user_id     item_id  rating\n",
       "0  ae7y5rlyikhozb5nkkoekyg2spsq  b00hlssqkk       5\n",
       "1  ahortssmi6zzfufwmpt4ufr2isuq  b002pxw04y       4\n",
       "2  afw2pdt3amt4x3pyqg7fjzh5fxfa  b00hcr5090       5\n",
       "3  afw2pdt3amt4x3pyqg7fjzh5fxfa  b0000arxxs       5\n",
       "4  afub7chtxrpd447qvqchbzvn2ipq  b0025zoveo       1"
      ]
     },
     "execution_count": 80,
     "metadata": {},
     "output_type": "execute_result"
    }
   ],
   "source": [
    "ritems.head()"
   ]
  },
  {
   "cell_type": "code",
   "execution_count": 81,
   "id": "0669352d-653e-42cc-b46d-f8ad952df56d",
   "metadata": {},
   "outputs": [
    {
     "data": {
      "text/plain": [
       "60144"
      ]
     },
     "execution_count": 81,
     "metadata": {},
     "output_type": "execute_result"
    }
   ],
   "source": [
    "ritems.user_id.nunique()"
   ]
  },
  {
   "cell_type": "code",
   "execution_count": 82,
   "id": "58929be1-f8dd-4501-acb6-69c02be145d7",
   "metadata": {},
   "outputs": [
    {
     "data": {
      "text/plain": [
       "user_id\n",
       "afercdy2efjkt7quq75gisnhtfoq    61\n",
       "aeesp3ufzfwpxgh7yropr55lvwha    35\n",
       "agck7oo3t5va4xrdc2ir4letu57a    23\n",
       "afjinhdzjtpw5jepesqsrkptjq5q    20\n",
       "ag3pvuktdcjxoopukvoegddehtpq    20\n",
       "                                ..\n",
       "ahxoa2csaj57zakwamiienjnudpa     1\n",
       "ah7aobllomibil2yzlsuq6kolqca     1\n",
       "aensltib63imob2qbfj6iickr7ra     1\n",
       "ahbraqffl22k5qodxbt22o3yapba     1\n",
       "af6emozk6ykkpprwckdjd46ei7zq     1\n",
       "Name: count, Length: 60144, dtype: int64"
      ]
     },
     "execution_count": 82,
     "metadata": {},
     "output_type": "execute_result"
    }
   ],
   "source": [
    "ritems.user_id.value_counts()"
   ]
  },
  {
   "cell_type": "code",
   "execution_count": 83,
   "id": "e608f4c8-8ddd-4810-ab2a-6f696bf6a1a6",
   "metadata": {},
   "outputs": [
    {
     "data": {
      "text/plain": [
       "408"
      ]
     },
     "execution_count": 83,
     "metadata": {},
     "output_type": "execute_result"
    }
   ],
   "source": [
    "ritems.user_id.value_counts()[ritems.user_id.value_counts()>=5].count()"
   ]
  },
  {
   "cell_type": "code",
   "execution_count": 84,
   "id": "5c4d3f28-6c4d-40fa-b9dd-21a9d24ee43b",
   "metadata": {},
   "outputs": [
    {
     "name": "stdout",
     "output_type": "stream",
     "text": [
      "                              item_id\n",
      "user_id                              \n",
      "ae2ngeq7ixzi7xhcblf2i2iiq4wa        5\n",
      "ae2zmpyod5uesjclev4r2l2y7kcq        5\n",
      "ae32dehais4ywmxm36cdwfwgat5a       10\n",
      "ae3e72wrsfhnxjowvnntolgx6eua        9\n",
      "ae3h7uxu4iic7qdbivkzvkhxbcaa        6\n"
     ]
    }
   ],
   "source": [
    "# Look for the users who reviewed more than 5 Items\n",
    "\n",
    "usercount = ritems[[\"item_id\",\"user_id\"]].groupby(\"user_id\").count()\n",
    "usercount = usercount[usercount[\"item_id\"] >= 5]\n",
    "print(usercount.head())"
   ]
  },
  {
   "cell_type": "markdown",
   "id": "a288d53b-1302-40ed-ace4-5db46207b37d",
   "metadata": {},
   "source": [
    "#### Fpr Item"
   ]
  },
  {
   "cell_type": "code",
   "execution_count": 86,
   "id": "ab71d1b4-c671-463f-aecc-6f301094bb10",
   "metadata": {},
   "outputs": [
    {
     "data": {
      "text/plain": [
       "3391"
      ]
     },
     "execution_count": 86,
     "metadata": {},
     "output_type": "execute_result"
    }
   ],
   "source": [
    "ritems.item_id.nunique()"
   ]
  },
  {
   "cell_type": "code",
   "execution_count": 87,
   "id": "a4273de9-490d-4672-a5c4-575fa71c5b26",
   "metadata": {},
   "outputs": [
    {
     "data": {
      "text/plain": [
       "item_id\n",
       "b00005nioh    1581\n",
       "b002pxvyeq    1469\n",
       "b004gvzuuy    1370\n",
       "b002pxw1ie    1150\n",
       "b000063xjl    1066\n",
       "              ... \n",
       "b00007gapl       1\n",
       "b004gvzuv8       1\n",
       "b007pvxlsu       1\n",
       "b074js9hrc       1\n",
       "b00007avic       1\n",
       "Name: count, Length: 3391, dtype: int64"
      ]
     },
     "execution_count": 87,
     "metadata": {},
     "output_type": "execute_result"
    }
   ],
   "source": [
    "ritems.item_id.value_counts()"
   ]
  },
  {
   "cell_type": "code",
   "execution_count": 88,
   "id": "35a3c3dc-2f20-44b0-a916-faac2b05fcf7",
   "metadata": {},
   "outputs": [
    {
     "data": {
      "text/plain": [
       "409"
      ]
     },
     "execution_count": 88,
     "metadata": {},
     "output_type": "execute_result"
    }
   ],
   "source": [
    "ritems.item_id.value_counts()[ritems.item_id.value_counts()>=32].count()"
   ]
  },
  {
   "cell_type": "code",
   "execution_count": 89,
   "id": "c1eb02ea-c458-4003-9e27-44e319c6e26b",
   "metadata": {},
   "outputs": [
    {
     "name": "stdout",
     "output_type": "stream",
     "text": [
      "                              item_id\n",
      "user_id                              \n",
      "ae2ngeq7ixzi7xhcblf2i2iiq4wa        5\n",
      "ae2zmpyod5uesjclev4r2l2y7kcq        5\n",
      "ae32dehais4ywmxm36cdwfwgat5a       10\n",
      "ae3e72wrsfhnxjowvnntolgx6eua        9\n",
      "ae3h7uxu4iic7qdbivkzvkhxbcaa        6\n"
     ]
    }
   ],
   "source": [
    "# Look for the users who reviewed more than 32 Items\n",
    "\n",
    "itemcount = ritems[[\"item_id\",\"user_id\"]].groupby(\"item_id\").count()\n",
    "itemcount = itemcount[itemcount[\"user_id\"] >= 32]\n",
    "print(usercount.head())"
   ]
  },
  {
   "cell_type": "code",
   "execution_count": null,
   "id": "e790bf47-829c-4737-ab93-1165653edc7e",
   "metadata": {},
   "outputs": [],
   "source": []
  },
  {
   "cell_type": "code",
   "execution_count": 90,
   "id": "9a148d64-78e5-4f2f-83ff-81ee606e3534",
   "metadata": {},
   "outputs": [],
   "source": [
    "collabdata=ritems[ritems[\"user_id\"].isin(usercount.index) & ritems[\"item_id\"].isin(itemcount.index)]\n"
   ]
  },
  {
   "cell_type": "code",
   "execution_count": 91,
   "id": "fd66c9f9-f151-4e6a-b04c-b27511727675",
   "metadata": {},
   "outputs": [
    {
     "data": {
      "text/html": [
       "<div>\n",
       "<style scoped>\n",
       "    .dataframe tbody tr th:only-of-type {\n",
       "        vertical-align: middle;\n",
       "    }\n",
       "\n",
       "    .dataframe tbody tr th {\n",
       "        vertical-align: top;\n",
       "    }\n",
       "\n",
       "    .dataframe thead th {\n",
       "        text-align: right;\n",
       "    }\n",
       "</style>\n",
       "<table border=\"1\" class=\"dataframe\">\n",
       "  <thead>\n",
       "    <tr style=\"text-align: right;\">\n",
       "      <th></th>\n",
       "      <th>user_id</th>\n",
       "      <th>item_id</th>\n",
       "      <th>rating</th>\n",
       "    </tr>\n",
       "  </thead>\n",
       "  <tbody>\n",
       "    <tr>\n",
       "      <th>47</th>\n",
       "      <td>afercdy2efjkt7quq75gisnhtfoq</td>\n",
       "      <td>b00006kpsh</td>\n",
       "      <td>4</td>\n",
       "    </tr>\n",
       "    <tr>\n",
       "      <th>51</th>\n",
       "      <td>afercdy2efjkt7quq75gisnhtfoq</td>\n",
       "      <td>b000ftj7be</td>\n",
       "      <td>5</td>\n",
       "    </tr>\n",
       "    <tr>\n",
       "      <th>54</th>\n",
       "      <td>afercdy2efjkt7quq75gisnhtfoq</td>\n",
       "      <td>b000063xjl</td>\n",
       "      <td>2</td>\n",
       "    </tr>\n",
       "    <tr>\n",
       "      <th>55</th>\n",
       "      <td>afercdy2efjkt7quq75gisnhtfoq</td>\n",
       "      <td>b00005n7t3</td>\n",
       "      <td>4</td>\n",
       "    </tr>\n",
       "    <tr>\n",
       "      <th>57</th>\n",
       "      <td>afercdy2efjkt7quq75gisnhtfoq</td>\n",
       "      <td>b001thpa26</td>\n",
       "      <td>4</td>\n",
       "    </tr>\n",
       "  </tbody>\n",
       "</table>\n",
       "</div>"
      ],
      "text/plain": [
       "                         user_id     item_id  rating\n",
       "47  afercdy2efjkt7quq75gisnhtfoq  b00006kpsh       4\n",
       "51  afercdy2efjkt7quq75gisnhtfoq  b000ftj7be       5\n",
       "54  afercdy2efjkt7quq75gisnhtfoq  b000063xjl       2\n",
       "55  afercdy2efjkt7quq75gisnhtfoq  b00005n7t3       4\n",
       "57  afercdy2efjkt7quq75gisnhtfoq  b001thpa26       4"
      ]
     },
     "execution_count": 91,
     "metadata": {},
     "output_type": "execute_result"
    }
   ],
   "source": [
    "collabdata.head()"
   ]
  },
  {
   "cell_type": "code",
   "execution_count": 92,
   "id": "34aca018-4e99-472a-a76d-42a729c816a6",
   "metadata": {},
   "outputs": [
    {
     "data": {
      "text/plain": [
       "(2091, 3)"
      ]
     },
     "execution_count": 92,
     "metadata": {},
     "output_type": "execute_result"
    }
   ],
   "source": [
    "collabdata.shape"
   ]
  },
  {
   "cell_type": "markdown",
   "id": "46ce4869-3647-4335-be40-db4fd4d6e4b6",
   "metadata": {},
   "source": [
    "### Modeling"
   ]
  },
  {
   "cell_type": "code",
   "execution_count": 94,
   "id": "d191fe5c-ef23-4cf0-98b3-787d28d209d2",
   "metadata": {},
   "outputs": [],
   "source": [
    "rui = pd.pivot_table(collabdata, index='user_id', columns='item_id', values='rating').fillna(0)"
   ]
  },
  {
   "cell_type": "code",
   "execution_count": 95,
   "id": "ff2969a7-55ba-4e19-91e0-922db916cba1",
   "metadata": {},
   "outputs": [
    {
     "data": {
      "text/html": [
       "<div>\n",
       "<style scoped>\n",
       "    .dataframe tbody tr th:only-of-type {\n",
       "        vertical-align: middle;\n",
       "    }\n",
       "\n",
       "    .dataframe tbody tr th {\n",
       "        vertical-align: top;\n",
       "    }\n",
       "\n",
       "    .dataframe thead th {\n",
       "        text-align: right;\n",
       "    }\n",
       "</style>\n",
       "<table border=\"1\" class=\"dataframe\">\n",
       "  <thead>\n",
       "    <tr style=\"text-align: right;\">\n",
       "      <th>item_id</th>\n",
       "      <th>b00005n7ny</th>\n",
       "      <th>b00005n7o6</th>\n",
       "      <th>b00005n7ov</th>\n",
       "      <th>b00005n7p0</th>\n",
       "      <th>b00005n7ph</th>\n",
       "      <th>b00005n7ps</th>\n",
       "      <th>b00005n7pt</th>\n",
       "      <th>b00005n7px</th>\n",
       "      <th>b00005n7q1</th>\n",
       "      <th>b00005n7q5</th>\n",
       "      <th>...</th>\n",
       "      <th>b06xwb4x41</th>\n",
       "      <th>b079fntzfv</th>\n",
       "      <th>b079jclnz4</th>\n",
       "      <th>b079p9bvgq</th>\n",
       "      <th>b079pdgjqh</th>\n",
       "      <th>b07drwht3p</th>\n",
       "      <th>b07n3x4p8l</th>\n",
       "      <th>b07q9xyj6b</th>\n",
       "      <th>b07qf2gg9l</th>\n",
       "      <th>b07qrn3qtf</th>\n",
       "    </tr>\n",
       "    <tr>\n",
       "      <th>user_id</th>\n",
       "      <th></th>\n",
       "      <th></th>\n",
       "      <th></th>\n",
       "      <th></th>\n",
       "      <th></th>\n",
       "      <th></th>\n",
       "      <th></th>\n",
       "      <th></th>\n",
       "      <th></th>\n",
       "      <th></th>\n",
       "      <th></th>\n",
       "      <th></th>\n",
       "      <th></th>\n",
       "      <th></th>\n",
       "      <th></th>\n",
       "      <th></th>\n",
       "      <th></th>\n",
       "      <th></th>\n",
       "      <th></th>\n",
       "      <th></th>\n",
       "      <th></th>\n",
       "    </tr>\n",
       "  </thead>\n",
       "  <tbody>\n",
       "    <tr>\n",
       "      <th>ae2ngeq7ixzi7xhcblf2i2iiq4wa</th>\n",
       "      <td>0.0</td>\n",
       "      <td>0.0</td>\n",
       "      <td>0.0</td>\n",
       "      <td>0.0</td>\n",
       "      <td>4.0</td>\n",
       "      <td>0.0</td>\n",
       "      <td>0.0</td>\n",
       "      <td>0.0</td>\n",
       "      <td>0.0</td>\n",
       "      <td>0.0</td>\n",
       "      <td>...</td>\n",
       "      <td>0.0</td>\n",
       "      <td>0.0</td>\n",
       "      <td>0.0</td>\n",
       "      <td>0.0</td>\n",
       "      <td>0.0</td>\n",
       "      <td>0.0</td>\n",
       "      <td>0.0</td>\n",
       "      <td>0.0</td>\n",
       "      <td>0.0</td>\n",
       "      <td>0.0</td>\n",
       "    </tr>\n",
       "    <tr>\n",
       "      <th>ae2zmpyod5uesjclev4r2l2y7kcq</th>\n",
       "      <td>0.0</td>\n",
       "      <td>0.0</td>\n",
       "      <td>0.0</td>\n",
       "      <td>0.0</td>\n",
       "      <td>0.0</td>\n",
       "      <td>0.0</td>\n",
       "      <td>0.0</td>\n",
       "      <td>0.0</td>\n",
       "      <td>0.0</td>\n",
       "      <td>0.0</td>\n",
       "      <td>...</td>\n",
       "      <td>0.0</td>\n",
       "      <td>0.0</td>\n",
       "      <td>0.0</td>\n",
       "      <td>0.0</td>\n",
       "      <td>0.0</td>\n",
       "      <td>0.0</td>\n",
       "      <td>0.0</td>\n",
       "      <td>0.0</td>\n",
       "      <td>0.0</td>\n",
       "      <td>0.0</td>\n",
       "    </tr>\n",
       "    <tr>\n",
       "      <th>ae32dehais4ywmxm36cdwfwgat5a</th>\n",
       "      <td>0.0</td>\n",
       "      <td>0.0</td>\n",
       "      <td>0.0</td>\n",
       "      <td>0.0</td>\n",
       "      <td>0.0</td>\n",
       "      <td>0.0</td>\n",
       "      <td>0.0</td>\n",
       "      <td>0.0</td>\n",
       "      <td>0.0</td>\n",
       "      <td>0.0</td>\n",
       "      <td>...</td>\n",
       "      <td>0.0</td>\n",
       "      <td>0.0</td>\n",
       "      <td>0.0</td>\n",
       "      <td>0.0</td>\n",
       "      <td>0.0</td>\n",
       "      <td>0.0</td>\n",
       "      <td>0.0</td>\n",
       "      <td>0.0</td>\n",
       "      <td>0.0</td>\n",
       "      <td>0.0</td>\n",
       "    </tr>\n",
       "    <tr>\n",
       "      <th>ae3e72wrsfhnxjowvnntolgx6eua</th>\n",
       "      <td>0.0</td>\n",
       "      <td>0.0</td>\n",
       "      <td>0.0</td>\n",
       "      <td>0.0</td>\n",
       "      <td>0.0</td>\n",
       "      <td>0.0</td>\n",
       "      <td>0.0</td>\n",
       "      <td>0.0</td>\n",
       "      <td>0.0</td>\n",
       "      <td>0.0</td>\n",
       "      <td>...</td>\n",
       "      <td>0.0</td>\n",
       "      <td>0.0</td>\n",
       "      <td>0.0</td>\n",
       "      <td>0.0</td>\n",
       "      <td>0.0</td>\n",
       "      <td>0.0</td>\n",
       "      <td>0.0</td>\n",
       "      <td>0.0</td>\n",
       "      <td>0.0</td>\n",
       "      <td>0.0</td>\n",
       "    </tr>\n",
       "    <tr>\n",
       "      <th>ae3h7uxu4iic7qdbivkzvkhxbcaa</th>\n",
       "      <td>0.0</td>\n",
       "      <td>0.0</td>\n",
       "      <td>0.0</td>\n",
       "      <td>0.0</td>\n",
       "      <td>0.0</td>\n",
       "      <td>0.0</td>\n",
       "      <td>0.0</td>\n",
       "      <td>0.0</td>\n",
       "      <td>0.0</td>\n",
       "      <td>0.0</td>\n",
       "      <td>...</td>\n",
       "      <td>0.0</td>\n",
       "      <td>0.0</td>\n",
       "      <td>0.0</td>\n",
       "      <td>0.0</td>\n",
       "      <td>0.0</td>\n",
       "      <td>0.0</td>\n",
       "      <td>0.0</td>\n",
       "      <td>0.0</td>\n",
       "      <td>0.0</td>\n",
       "      <td>0.0</td>\n",
       "    </tr>\n",
       "    <tr>\n",
       "      <th>...</th>\n",
       "      <td>...</td>\n",
       "      <td>...</td>\n",
       "      <td>...</td>\n",
       "      <td>...</td>\n",
       "      <td>...</td>\n",
       "      <td>...</td>\n",
       "      <td>...</td>\n",
       "      <td>...</td>\n",
       "      <td>...</td>\n",
       "      <td>...</td>\n",
       "      <td>...</td>\n",
       "      <td>...</td>\n",
       "      <td>...</td>\n",
       "      <td>...</td>\n",
       "      <td>...</td>\n",
       "      <td>...</td>\n",
       "      <td>...</td>\n",
       "      <td>...</td>\n",
       "      <td>...</td>\n",
       "      <td>...</td>\n",
       "      <td>...</td>\n",
       "    </tr>\n",
       "    <tr>\n",
       "      <th>ahzd2mphx4xg7gpxizeoyrclyu6a</th>\n",
       "      <td>0.0</td>\n",
       "      <td>0.0</td>\n",
       "      <td>0.0</td>\n",
       "      <td>0.0</td>\n",
       "      <td>0.0</td>\n",
       "      <td>0.0</td>\n",
       "      <td>0.0</td>\n",
       "      <td>0.0</td>\n",
       "      <td>0.0</td>\n",
       "      <td>0.0</td>\n",
       "      <td>...</td>\n",
       "      <td>0.0</td>\n",
       "      <td>0.0</td>\n",
       "      <td>0.0</td>\n",
       "      <td>0.0</td>\n",
       "      <td>0.0</td>\n",
       "      <td>0.0</td>\n",
       "      <td>0.0</td>\n",
       "      <td>0.0</td>\n",
       "      <td>0.0</td>\n",
       "      <td>0.0</td>\n",
       "    </tr>\n",
       "    <tr>\n",
       "      <th>ahzdrm3hozlswfxsq5p3bfbb5o7q</th>\n",
       "      <td>0.0</td>\n",
       "      <td>0.0</td>\n",
       "      <td>0.0</td>\n",
       "      <td>0.0</td>\n",
       "      <td>0.0</td>\n",
       "      <td>0.0</td>\n",
       "      <td>0.0</td>\n",
       "      <td>0.0</td>\n",
       "      <td>0.0</td>\n",
       "      <td>0.0</td>\n",
       "      <td>...</td>\n",
       "      <td>0.0</td>\n",
       "      <td>0.0</td>\n",
       "      <td>0.0</td>\n",
       "      <td>0.0</td>\n",
       "      <td>0.0</td>\n",
       "      <td>0.0</td>\n",
       "      <td>0.0</td>\n",
       "      <td>0.0</td>\n",
       "      <td>0.0</td>\n",
       "      <td>0.0</td>\n",
       "    </tr>\n",
       "    <tr>\n",
       "      <th>ahzfwpt5wcwoe3vwuidircz6ktya</th>\n",
       "      <td>0.0</td>\n",
       "      <td>0.0</td>\n",
       "      <td>5.0</td>\n",
       "      <td>0.0</td>\n",
       "      <td>0.0</td>\n",
       "      <td>0.0</td>\n",
       "      <td>0.0</td>\n",
       "      <td>0.0</td>\n",
       "      <td>0.0</td>\n",
       "      <td>0.0</td>\n",
       "      <td>...</td>\n",
       "      <td>0.0</td>\n",
       "      <td>0.0</td>\n",
       "      <td>0.0</td>\n",
       "      <td>0.0</td>\n",
       "      <td>0.0</td>\n",
       "      <td>0.0</td>\n",
       "      <td>0.0</td>\n",
       "      <td>0.0</td>\n",
       "      <td>0.0</td>\n",
       "      <td>0.0</td>\n",
       "    </tr>\n",
       "    <tr>\n",
       "      <th>ahzqondj2ujz7wy6552p3k5vo5bq</th>\n",
       "      <td>0.0</td>\n",
       "      <td>0.0</td>\n",
       "      <td>0.0</td>\n",
       "      <td>0.0</td>\n",
       "      <td>0.0</td>\n",
       "      <td>0.0</td>\n",
       "      <td>0.0</td>\n",
       "      <td>0.0</td>\n",
       "      <td>0.0</td>\n",
       "      <td>0.0</td>\n",
       "      <td>...</td>\n",
       "      <td>0.0</td>\n",
       "      <td>0.0</td>\n",
       "      <td>0.0</td>\n",
       "      <td>0.0</td>\n",
       "      <td>0.0</td>\n",
       "      <td>0.0</td>\n",
       "      <td>0.0</td>\n",
       "      <td>0.0</td>\n",
       "      <td>0.0</td>\n",
       "      <td>0.0</td>\n",
       "    </tr>\n",
       "    <tr>\n",
       "      <th>ahzvvy6jydysyaxim42r7bv6meiq</th>\n",
       "      <td>0.0</td>\n",
       "      <td>0.0</td>\n",
       "      <td>0.0</td>\n",
       "      <td>0.0</td>\n",
       "      <td>0.0</td>\n",
       "      <td>0.0</td>\n",
       "      <td>0.0</td>\n",
       "      <td>0.0</td>\n",
       "      <td>0.0</td>\n",
       "      <td>0.0</td>\n",
       "      <td>...</td>\n",
       "      <td>0.0</td>\n",
       "      <td>0.0</td>\n",
       "      <td>0.0</td>\n",
       "      <td>0.0</td>\n",
       "      <td>0.0</td>\n",
       "      <td>0.0</td>\n",
       "      <td>0.0</td>\n",
       "      <td>0.0</td>\n",
       "      <td>0.0</td>\n",
       "      <td>0.0</td>\n",
       "    </tr>\n",
       "  </tbody>\n",
       "</table>\n",
       "<p>406 rows × 349 columns</p>\n",
       "</div>"
      ],
      "text/plain": [
       "item_id                       b00005n7ny  b00005n7o6  b00005n7ov  b00005n7p0  \\\n",
       "user_id                                                                        \n",
       "ae2ngeq7ixzi7xhcblf2i2iiq4wa         0.0         0.0         0.0         0.0   \n",
       "ae2zmpyod5uesjclev4r2l2y7kcq         0.0         0.0         0.0         0.0   \n",
       "ae32dehais4ywmxm36cdwfwgat5a         0.0         0.0         0.0         0.0   \n",
       "ae3e72wrsfhnxjowvnntolgx6eua         0.0         0.0         0.0         0.0   \n",
       "ae3h7uxu4iic7qdbivkzvkhxbcaa         0.0         0.0         0.0         0.0   \n",
       "...                                  ...         ...         ...         ...   \n",
       "ahzd2mphx4xg7gpxizeoyrclyu6a         0.0         0.0         0.0         0.0   \n",
       "ahzdrm3hozlswfxsq5p3bfbb5o7q         0.0         0.0         0.0         0.0   \n",
       "ahzfwpt5wcwoe3vwuidircz6ktya         0.0         0.0         5.0         0.0   \n",
       "ahzqondj2ujz7wy6552p3k5vo5bq         0.0         0.0         0.0         0.0   \n",
       "ahzvvy6jydysyaxim42r7bv6meiq         0.0         0.0         0.0         0.0   \n",
       "\n",
       "item_id                       b00005n7ph  b00005n7ps  b00005n7pt  b00005n7px  \\\n",
       "user_id                                                                        \n",
       "ae2ngeq7ixzi7xhcblf2i2iiq4wa         4.0         0.0         0.0         0.0   \n",
       "ae2zmpyod5uesjclev4r2l2y7kcq         0.0         0.0         0.0         0.0   \n",
       "ae32dehais4ywmxm36cdwfwgat5a         0.0         0.0         0.0         0.0   \n",
       "ae3e72wrsfhnxjowvnntolgx6eua         0.0         0.0         0.0         0.0   \n",
       "ae3h7uxu4iic7qdbivkzvkhxbcaa         0.0         0.0         0.0         0.0   \n",
       "...                                  ...         ...         ...         ...   \n",
       "ahzd2mphx4xg7gpxizeoyrclyu6a         0.0         0.0         0.0         0.0   \n",
       "ahzdrm3hozlswfxsq5p3bfbb5o7q         0.0         0.0         0.0         0.0   \n",
       "ahzfwpt5wcwoe3vwuidircz6ktya         0.0         0.0         0.0         0.0   \n",
       "ahzqondj2ujz7wy6552p3k5vo5bq         0.0         0.0         0.0         0.0   \n",
       "ahzvvy6jydysyaxim42r7bv6meiq         0.0         0.0         0.0         0.0   \n",
       "\n",
       "item_id                       b00005n7q1  b00005n7q5  ...  b06xwb4x41  \\\n",
       "user_id                                               ...               \n",
       "ae2ngeq7ixzi7xhcblf2i2iiq4wa         0.0         0.0  ...         0.0   \n",
       "ae2zmpyod5uesjclev4r2l2y7kcq         0.0         0.0  ...         0.0   \n",
       "ae32dehais4ywmxm36cdwfwgat5a         0.0         0.0  ...         0.0   \n",
       "ae3e72wrsfhnxjowvnntolgx6eua         0.0         0.0  ...         0.0   \n",
       "ae3h7uxu4iic7qdbivkzvkhxbcaa         0.0         0.0  ...         0.0   \n",
       "...                                  ...         ...  ...         ...   \n",
       "ahzd2mphx4xg7gpxizeoyrclyu6a         0.0         0.0  ...         0.0   \n",
       "ahzdrm3hozlswfxsq5p3bfbb5o7q         0.0         0.0  ...         0.0   \n",
       "ahzfwpt5wcwoe3vwuidircz6ktya         0.0         0.0  ...         0.0   \n",
       "ahzqondj2ujz7wy6552p3k5vo5bq         0.0         0.0  ...         0.0   \n",
       "ahzvvy6jydysyaxim42r7bv6meiq         0.0         0.0  ...         0.0   \n",
       "\n",
       "item_id                       b079fntzfv  b079jclnz4  b079p9bvgq  b079pdgjqh  \\\n",
       "user_id                                                                        \n",
       "ae2ngeq7ixzi7xhcblf2i2iiq4wa         0.0         0.0         0.0         0.0   \n",
       "ae2zmpyod5uesjclev4r2l2y7kcq         0.0         0.0         0.0         0.0   \n",
       "ae32dehais4ywmxm36cdwfwgat5a         0.0         0.0         0.0         0.0   \n",
       "ae3e72wrsfhnxjowvnntolgx6eua         0.0         0.0         0.0         0.0   \n",
       "ae3h7uxu4iic7qdbivkzvkhxbcaa         0.0         0.0         0.0         0.0   \n",
       "...                                  ...         ...         ...         ...   \n",
       "ahzd2mphx4xg7gpxizeoyrclyu6a         0.0         0.0         0.0         0.0   \n",
       "ahzdrm3hozlswfxsq5p3bfbb5o7q         0.0         0.0         0.0         0.0   \n",
       "ahzfwpt5wcwoe3vwuidircz6ktya         0.0         0.0         0.0         0.0   \n",
       "ahzqondj2ujz7wy6552p3k5vo5bq         0.0         0.0         0.0         0.0   \n",
       "ahzvvy6jydysyaxim42r7bv6meiq         0.0         0.0         0.0         0.0   \n",
       "\n",
       "item_id                       b07drwht3p  b07n3x4p8l  b07q9xyj6b  b07qf2gg9l  \\\n",
       "user_id                                                                        \n",
       "ae2ngeq7ixzi7xhcblf2i2iiq4wa         0.0         0.0         0.0         0.0   \n",
       "ae2zmpyod5uesjclev4r2l2y7kcq         0.0         0.0         0.0         0.0   \n",
       "ae32dehais4ywmxm36cdwfwgat5a         0.0         0.0         0.0         0.0   \n",
       "ae3e72wrsfhnxjowvnntolgx6eua         0.0         0.0         0.0         0.0   \n",
       "ae3h7uxu4iic7qdbivkzvkhxbcaa         0.0         0.0         0.0         0.0   \n",
       "...                                  ...         ...         ...         ...   \n",
       "ahzd2mphx4xg7gpxizeoyrclyu6a         0.0         0.0         0.0         0.0   \n",
       "ahzdrm3hozlswfxsq5p3bfbb5o7q         0.0         0.0         0.0         0.0   \n",
       "ahzfwpt5wcwoe3vwuidircz6ktya         0.0         0.0         0.0         0.0   \n",
       "ahzqondj2ujz7wy6552p3k5vo5bq         0.0         0.0         0.0         0.0   \n",
       "ahzvvy6jydysyaxim42r7bv6meiq         0.0         0.0         0.0         0.0   \n",
       "\n",
       "item_id                       b07qrn3qtf  \n",
       "user_id                                   \n",
       "ae2ngeq7ixzi7xhcblf2i2iiq4wa         0.0  \n",
       "ae2zmpyod5uesjclev4r2l2y7kcq         0.0  \n",
       "ae32dehais4ywmxm36cdwfwgat5a         0.0  \n",
       "ae3e72wrsfhnxjowvnntolgx6eua         0.0  \n",
       "ae3h7uxu4iic7qdbivkzvkhxbcaa         0.0  \n",
       "...                                  ...  \n",
       "ahzd2mphx4xg7gpxizeoyrclyu6a         0.0  \n",
       "ahzdrm3hozlswfxsq5p3bfbb5o7q         0.0  \n",
       "ahzfwpt5wcwoe3vwuidircz6ktya         0.0  \n",
       "ahzqondj2ujz7wy6552p3k5vo5bq         0.0  \n",
       "ahzvvy6jydysyaxim42r7bv6meiq         0.0  \n",
       "\n",
       "[406 rows x 349 columns]"
      ]
     },
     "execution_count": 95,
     "metadata": {},
     "output_type": "execute_result"
    }
   ],
   "source": [
    "rui"
   ]
  },
  {
   "cell_type": "code",
   "execution_count": 96,
   "id": "58321399-f9cf-4090-8b5d-f1297a36d93d",
   "metadata": {},
   "outputs": [],
   "source": [
    "from surprise import Dataset, Reader, SVD\n",
    "from surprise.model_selection import train_test_split\n",
    "from surprise import accuracy"
   ]
  },
  {
   "cell_type": "code",
   "execution_count": 97,
   "id": "f65aeee0-2f01-4160-95d0-b123219a928f",
   "metadata": {},
   "outputs": [],
   "source": [
    "# Data Reading to Surprise\n",
    "reader = Reader(rating_scale=(0.5, 5.0))  # Ratings range from 0.5 to 5.0\n",
    "data = Dataset.load_from_df(ritems[['user_id', 'item_id', 'rating']], reader)"
   ]
  },
  {
   "cell_type": "code",
   "execution_count": 98,
   "id": "3965e569-c041-4206-8aa6-89bd419ccfd1",
   "metadata": {},
   "outputs": [],
   "source": [
    "# Train-Test Split\n",
    "trainset, testset = train_test_split(data, test_size=0.2, random_state=42)"
   ]
  },
  {
   "cell_type": "code",
   "execution_count": 99,
   "id": "45ab19ec-3d8f-4e2e-9ade-a6e565c7319f",
   "metadata": {},
   "outputs": [
    {
     "data": {
      "text/plain": [
       "<surprise.prediction_algorithms.matrix_factorization.SVD at 0x204360ecc80>"
      ]
     },
     "execution_count": 99,
     "metadata": {},
     "output_type": "execute_result"
    }
   ],
   "source": [
    "# Apply SVD\n",
    "svd = SVD()\n",
    "svd.fit(trainset)"
   ]
  },
  {
   "cell_type": "code",
   "execution_count": 100,
   "id": "e392e1d6-4c62-4404-b961-9f505c42deaf",
   "metadata": {},
   "outputs": [
    {
     "name": "stdout",
     "output_type": "stream",
     "text": [
      "RMSE: 1.4185\n",
      "Root Mean Squared Error: 1.4185\n"
     ]
    }
   ],
   "source": [
    "# Evaluate the model\n",
    "predictions = svd.test(testset)\n",
    "rmse = accuracy.rmse(predictions)\n",
    "print(f\"Root Mean Squared Error: {rmse:.4f}\")"
   ]
  },
  {
   "cell_type": "markdown",
   "id": "2142ff69-f4dd-48ed-86e1-d59301c6611b",
   "metadata": {},
   "source": [
    "### Item Collaborative Recommendations:"
   ]
  },
  {
   "cell_type": "code",
   "execution_count": 102,
   "id": "a6f38c57-3322-44a9-a3b6-c087dbcf2779",
   "metadata": {},
   "outputs": [],
   "source": [
    "# Creating  lookup dictionary\n",
    "item_lookup = items.set_index(\"item_id\")[\"title\"].to_dict()"
   ]
  },
  {
   "cell_type": "code",
   "execution_count": 103,
   "id": "54faa1b5-6f8b-45dc-b6d8-8b2906a23fe3",
   "metadata": {},
   "outputs": [],
   "source": [
    "# Compute item latent vectors\n",
    "item_factors = {trainset.to_raw_iid(itemid): svd.qi[itemid] for itemid in trainset.all_items()}"
   ]
  },
  {
   "cell_type": "code",
   "execution_count": 104,
   "id": "c55dd15e-29bc-41ab-a02c-bfa4a5613d34",
   "metadata": {},
   "outputs": [],
   "source": [
    "# Function to recommend similar items\n",
    "\n",
    "def recommend_similar_items(item_title, n=5):\n",
    "    \n",
    "    ItemId = items[items[\"title\"].str.contains(item_title, case=False, na=False)][\"item_id\"]\n",
    "    if ItemId.empty:\n",
    "        return []\n",
    "\n",
    "    ItemId = ItemId.iloc[0]\n",
    "    if ItemId not in item_factors:\n",
    "        return []\n",
    "\n",
    "    item_vector = item_factors[ItemId]\n",
    "    # Compute cosine similarity with all other items\n",
    "    similarities = {other_id: np.dot(item_vector, other_vector)\n",
    "                    for other_id, other_vector in item_factors.items()\n",
    "                    if other_id != ItemId}\n",
    "\n",
    "    # Get top N most similar items\n",
    "    top_item_ids = sorted(similarities, key=similarities.get, reverse=True)[:n]\n",
    "    \n",
    "    return [(item_lookup[itemid], round(similarities[itemid],2)) for itemid in top_item_ids if itemid in item_lookup]\n"
   ]
  },
  {
   "cell_type": "code",
   "execution_count": 105,
   "id": "51332434-9dc1-4069-bec4-fd6af5dd9dd8",
   "metadata": {},
   "outputs": [
    {
     "data": {
      "text/plain": [
       "[('do it yourself,print magazine', 0.91),\n",
       " ('eatingwell,print magazine', 0.55),\n",
       " ('time,print magazine', 0.53),\n",
       " ('popular science,print magazine', 0.53),\n",
       " ('consumer reports', 0.51)]"
      ]
     },
     "execution_count": 105,
     "metadata": {},
     "output_type": "execute_result"
    }
   ],
   "source": [
    "recommend_similar_items('gq print access,print magazine')"
   ]
  },
  {
   "cell_type": "markdown",
   "id": "fce59b49-da98-4e32-bcc3-42f01964930e",
   "metadata": {},
   "source": [
    "### User Collaborative - Item Recommendations"
   ]
  },
  {
   "cell_type": "code",
   "execution_count": 107,
   "id": "d34d1be8-4540-40c1-946f-fa5c09a6e39b",
   "metadata": {},
   "outputs": [
    {
     "name": "stdout",
     "output_type": "stream",
     "text": [
      "Top 5 Recommended Items for User ae2ngeq7ixzi7xhcblf2i2iiq4wa:\n",
      "\n",
      "[('b002pxvyqy', 5.0), ('b00006lkh1', 5.0), ('b000ny15yi', 5.0), ('b00006kbw2', 5.0), ('b00006krqp', 5.0)]\n"
     ]
    }
   ],
   "source": [
    "# Generate item recommendations for a specific user\n",
    "\n",
    "def recommend_items(UserId, n=5):\n",
    "    all_item_ids = ritems['item_id'].unique()\n",
    "    rated_items = ritems[ritems['user_id'] == UserId]['item_id'].values\n",
    "    notrated_items = [item for item in all_item_ids if item not in rated_items]\n",
    "    \n",
    "    predictions = [(item, svd.predict(UserId, item).est) for item in notrated_items]\n",
    "    recommendations = sorted(predictions, key=lambda x: x[1], reverse=True)[:n]\n",
    "    \n",
    "    return recommendations\n",
    "# Example: Recommend 5 movies for user 1\n",
    "recommended_items = recommend_items(UserId='ae2ngeq7ixzi7xhcblf2i2iiq4wa', n=5)\n",
    "print(\"Top 5 Recommended Items for User ae2ngeq7ixzi7xhcblf2i2iiq4wa:\")\n",
    "print()\n",
    "print(recommended_items)"
   ]
  },
  {
   "cell_type": "code",
   "execution_count": null,
   "id": "0407e3fe-f3cf-4408-8e56-aace0d06c5c3",
   "metadata": {},
   "outputs": [],
   "source": []
  },
  {
   "cell_type": "code",
   "execution_count": null,
   "id": "0f588ffe-c714-4544-b1a7-2cc49e9a750a",
   "metadata": {},
   "outputs": [],
   "source": []
  },
  {
   "cell_type": "code",
   "execution_count": null,
   "id": "ec2e22e1-1dfa-46aa-9fbe-cbfa39066c27",
   "metadata": {},
   "outputs": [],
   "source": []
  },
  {
   "cell_type": "code",
   "execution_count": null,
   "id": "5928b3a5-51ac-4f21-98ca-0194baae2cc7",
   "metadata": {},
   "outputs": [],
   "source": []
  },
  {
   "cell_type": "code",
   "execution_count": null,
   "id": "bbb4cbf3-67b2-4642-80e7-9ae868b19d28",
   "metadata": {},
   "outputs": [],
   "source": []
  },
  {
   "cell_type": "code",
   "execution_count": null,
   "id": "325af32e-41c5-4eb4-b1d8-c5c657822335",
   "metadata": {},
   "outputs": [],
   "source": []
  },
  {
   "cell_type": "code",
   "execution_count": null,
   "id": "26c8d689-7909-49bc-b261-6c1a251c3713",
   "metadata": {},
   "outputs": [],
   "source": []
  }
 ],
 "metadata": {
  "kernelspec": {
   "display_name": "Python 3 (ipykernel)",
   "language": "python",
   "name": "python3"
  },
  "language_info": {
   "codemirror_mode": {
    "name": "ipython",
    "version": 3
   },
   "file_extension": ".py",
   "mimetype": "text/x-python",
   "name": "python",
   "nbconvert_exporter": "python",
   "pygments_lexer": "ipython3",
   "version": "3.12.3"
  }
 },
 "nbformat": 4,
 "nbformat_minor": 5
}
